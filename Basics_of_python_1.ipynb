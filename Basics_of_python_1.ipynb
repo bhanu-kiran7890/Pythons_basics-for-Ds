{
  "nbformat": 4,
  "nbformat_minor": 0,
  "metadata": {
    "colab": {
      "provenance": []
    },
    "kernelspec": {
      "name": "python3",
      "display_name": "Python 3"
    },
    "language_info": {
      "name": "python"
    }
  },
  "cells": [
    {
      "cell_type": "markdown",
      "source": [
        "#Python Class 1 - command to execute is shift+enter"
      ],
      "metadata": {
        "id": "6tzbQNaTzYp7"
      }
    },
    {
      "cell_type": "markdown",
      "source": [
        "#Comments in Python"
      ],
      "metadata": {
        "id": "KuOM8l8vzN4R"
      }
    },
    {
      "cell_type": "code",
      "source": [
        "#Comments can be used to explain Python code, to make the code more readable, to prevent execution when testing code.\n",
        "\n",
        "\n",
        "# Comment means an non executable code\n",
        "\n",
        "# Single line comment\n",
        "\n",
        "'''\n",
        "MUltiline comments\n",
        "'''\n"
      ],
      "metadata": {
        "colab": {
          "base_uri": "https://localhost:8080/",
          "height": 35
        },
        "id": "vMHNqh-Y8bI1",
        "outputId": "11bd78e1-c89f-4bd5-a892-0c9151a5232b"
      },
      "execution_count": null,
      "outputs": [
        {
          "output_type": "execute_result",
          "data": {
            "text/plain": [
              "'\\nMUltiline comments\\n'"
            ],
            "application/vnd.google.colaboratory.intrinsic+json": {
              "type": "string"
            }
          },
          "metadata": {},
          "execution_count": 1
        }
      ]
    },
    {
      "cell_type": "markdown",
      "source": [
        "#print functions in python"
      ],
      "metadata": {
        "id": "nMKEwNFgr63V"
      }
    },
    {
      "cell_type": "code",
      "source": [
        "\n",
        "#keywords are group of words that have a specific functionality\n",
        "#Print statement is used to print any values that we have given as a input\n",
        "#In the below example We are priting a string Hello world where tha data that present inside the double braces its going to be printed as they are!!\n",
        "print (\"Hello World\")"
      ],
      "metadata": {
        "colab": {
          "base_uri": "https://localhost:8080/"
        },
        "id": "9cvKyTyfG8uu",
        "outputId": "9f44bb84-e08c-4572-b5d2-81c981d3f454"
      },
      "execution_count": null,
      "outputs": [
        {
          "output_type": "stream",
          "name": "stdout",
          "text": [
            "Hello World\n"
          ]
        }
      ]
    },
    {
      "cell_type": "code",
      "source": [
        "# to check verion of python\n",
        "!python --version"
      ],
      "metadata": {
        "colab": {
          "base_uri": "https://localhost:8080/"
        },
        "outputId": "1c573e1c-5f64-4f8c-8efe-aef18347f0d6",
        "id": "AX6X9D6os1IM"
      },
      "execution_count": null,
      "outputs": [
        {
          "output_type": "stream",
          "name": "stdout",
          "text": [
            "Python 3.10.12\n"
          ]
        }
      ]
    },
    {
      "cell_type": "code",
      "source": [
        "'''\n",
        "Python is a interpretor.\n",
        "\n",
        "code -> Compiler/interpretor(Syntax check) -> MachineCode\n",
        "\n",
        "Compiler : Tries to execute the code at once\n",
        "Interpretor : tries to compile the code line by line\n",
        "'''"
      ],
      "metadata": {
        "id": "KJTTHbqKtI7D"
      },
      "execution_count": null,
      "outputs": []
    },
    {
      "cell_type": "markdown",
      "source": [
        "#INDENTATION"
      ],
      "metadata": {
        "id": "J52SrnY-tL0G"
      }
    },
    {
      "cell_type": "code",
      "source": [
        "#refers to adding white space before a statement to a particular block of code\n",
        "#It is a way of telling a Python interpreter that the group of statements belongs to a particular block of code\n",
        "if 5 > 2:\n",
        "  print ('Five is greater than two')\n",
        "#If is a conditional loop which it checks the condition of the given data!\n",
        "#we are checking whether 5 is greater than 2 if it is true then it is going to print the data that we are represented in print statement\n",
        "#else it's going to be exited from the conditional loop!!"
      ],
      "metadata": {
        "colab": {
          "base_uri": "https://localhost:8080/"
        },
        "id": "4St-DrbytWdA",
        "outputId": "571c7f1f-8618-4037-8093-181dc7dea35e"
      },
      "execution_count": null,
      "outputs": [
        {
          "output_type": "stream",
          "name": "stdout",
          "text": [
            "Five is greater than two\n"
          ]
        }
      ]
    },
    {
      "cell_type": "code",
      "source": [
        "if 5 > 2:\n",
        "  print ('hello')\n",
        "  if 3 < 7:\n",
        "    print ('hi')\n",
        "    print ('1')\n",
        "\n",
        "print ('Five is greater than two')\n",
        "#In this also it is same as we seen before but here there are two if conditions where we are comapring two conditions\n",
        "#if the first if condition is true then it moves to second if condition because the second one is present inside the first one\n",
        "#And also the last print statment it doesnt worry about anything if the condition is false or true it executes because it is outside of if statements!!"
      ],
      "metadata": {
        "colab": {
          "base_uri": "https://localhost:8080/"
        },
        "id": "xP3MuNTuthmE",
        "outputId": "4df9766e-17a0-4da2-ce3f-48e29a66f6de"
      },
      "execution_count": null,
      "outputs": [
        {
          "output_type": "stream",
          "name": "stdout",
          "text": [
            "hello\n",
            "hi\n",
            "1\n",
            "Five is greater than two\n"
          ]
        }
      ]
    },
    {
      "cell_type": "code",
      "source": [
        "# This is a python class\n",
        "\n",
        "'''\n",
        "This is Gayathri\n",
        "'''"
      ],
      "metadata": {
        "colab": {
          "base_uri": "https://localhost:8080/",
          "height": 35
        },
        "id": "p428ao4Vtk0c",
        "outputId": "49b5294d-fdc4-4152-d7ae-819586a429c5"
      },
      "execution_count": null,
      "outputs": [
        {
          "output_type": "execute_result",
          "data": {
            "text/plain": [
              "'\\nThis is Gayathri\\n'"
            ],
            "application/vnd.google.colaboratory.intrinsic+json": {
              "type": "string"
            }
          },
          "metadata": {},
          "execution_count": 5
        }
      ]
    },
    {
      "cell_type": "markdown",
      "source": [
        "#VARIABLES"
      ],
      "metadata": {
        "id": "w3h0FjDItzv5"
      }
    },
    {
      "cell_type": "code",
      "source": [
        "#Variables are containers for storing data values\n",
        "#String variables can be declared either by using single or double quotes\n",
        "#variables are something that tend to change\n",
        "x = 5\n",
        "y = \"King\" # all the words or sentences should be in \"\"\n",
        "print (x)\n",
        "print (y)"
      ],
      "metadata": {
        "colab": {
          "base_uri": "https://localhost:8080/"
        },
        "id": "fXMbWeQIt9Vj",
        "outputId": "326e1775-a9e0-453e-9c05-d862b7f6809a"
      },
      "execution_count": null,
      "outputs": [
        {
          "output_type": "stream",
          "name": "stdout",
          "text": [
            "5\n",
            "King\n"
          ]
        }
      ]
    },
    {
      "cell_type": "code",
      "source": [
        "#variable values can be replaced\n",
        "x = 5\n",
        "print (x)\n",
        "x = 'Ram'\n",
        "print (x)"
      ],
      "metadata": {
        "colab": {
          "base_uri": "https://localhost:8080/"
        },
        "id": "4LV7fjm2uQvl",
        "outputId": "8944e50f-edc9-416c-9f28-8decf23bf4fa"
      },
      "execution_count": null,
      "outputs": [
        {
          "output_type": "stream",
          "name": "stdout",
          "text": [
            "5\n",
            "Ram\n"
          ]
        }
      ]
    },
    {
      "cell_type": "code",
      "source": [
        "x = 10\n",
        "if x > 5:\n",
        "  print('Hello world')"
      ],
      "metadata": {
        "colab": {
          "base_uri": "https://localhost:8080/"
        },
        "id": "ePSStZy_uV5R",
        "outputId": "4e629568-de97-4172-81d0-c24832330691"
      },
      "execution_count": null,
      "outputs": [
        {
          "output_type": "stream",
          "name": "stdout",
          "text": [
            "Hello world\n"
          ]
        }
      ]
    },
    {
      "cell_type": "markdown",
      "source": [
        "#CASTING"
      ],
      "metadata": {
        "id": "uazq3gJKumwQ"
      }
    },
    {
      "cell_type": "code",
      "source": [
        "#converts one datatype into another datatype\n",
        "x = 3\n",
        "print (type(x)) # type is the keyword to find the datatype in python"
      ],
      "metadata": {
        "colab": {
          "base_uri": "https://localhost:8080/"
        },
        "id": "RpycoHxgursm",
        "outputId": "37e064dc-57d2-4a40-b92e-02b87942541b"
      },
      "execution_count": null,
      "outputs": [
        {
          "output_type": "stream",
          "name": "stdout",
          "text": [
            "<class 'int'>\n"
          ]
        }
      ]
    },
    {
      "cell_type": "code",
      "source": [
        "x=int(3)\n",
        "x=float(3)\n",
        "x=str(3)"
      ],
      "metadata": {
        "id": "qlGsJ07euwxR"
      },
      "execution_count": null,
      "outputs": []
    },
    {
      "cell_type": "code",
      "source": [
        "x"
      ],
      "metadata": {
        "colab": {
          "base_uri": "https://localhost:8080/",
          "height": 35
        },
        "id": "XVnaE08Ru-JB",
        "outputId": "ae8faf55-24c9-49a8-fa2d-c8deb35ae9dd"
      },
      "execution_count": null,
      "outputs": [
        {
          "output_type": "execute_result",
          "data": {
            "text/plain": [
              "'3'"
            ],
            "application/vnd.google.colaboratory.intrinsic+json": {
              "type": "string"
            }
          },
          "metadata": {},
          "execution_count": 14
        }
      ]
    },
    {
      "cell_type": "code",
      "source": [
        "# declare a variable x with 100 and convert it to string and print\n",
        "\n",
        "x = 100\n",
        "y = str(x)\n",
        "print (y)"
      ],
      "metadata": {
        "colab": {
          "base_uri": "https://localhost:8080/"
        },
        "id": "XWBgo_BOvDvM",
        "outputId": "70c64242-8edf-4c15-84ec-e6af4947bee0"
      },
      "execution_count": null,
      "outputs": [
        {
          "output_type": "stream",
          "name": "stdout",
          "text": [
            "100\n"
          ]
        }
      ]
    },
    {
      "cell_type": "code",
      "source": [
        "str(100)"
      ],
      "metadata": {
        "colab": {
          "base_uri": "https://localhost:8080/",
          "height": 35
        },
        "id": "hvvMUkQ5vHsp",
        "outputId": "76b4b50f-2702-4c68-b1c9-38dd813270a9"
      },
      "execution_count": null,
      "outputs": [
        {
          "output_type": "execute_result",
          "data": {
            "text/plain": [
              "'100'"
            ],
            "application/vnd.google.colaboratory.intrinsic+json": {
              "type": "string"
            }
          },
          "metadata": {},
          "execution_count": 16
        }
      ]
    },
    {
      "cell_type": "code",
      "source": [
        "x = \"John\"\n",
        "x = 'John'\n",
        "# python '' or \"\" mean the same"
      ],
      "metadata": {
        "id": "U7UKwhjCvKdD"
      },
      "execution_count": null,
      "outputs": []
    },
    {
      "cell_type": "code",
      "source": [
        "x = 'Gayathri'\n",
        "if x == 'Gayathri':\n",
        "  print ('My name is Gayathri')"
      ],
      "metadata": {
        "colab": {
          "base_uri": "https://localhost:8080/"
        },
        "id": "i2B3sOmxvOwG",
        "outputId": "807b35cf-5d19-4dcb-b5e9-5f9178731909"
      },
      "execution_count": null,
      "outputs": [
        {
          "output_type": "stream",
          "name": "stdout",
          "text": [
            "My name is Gayathri\n"
          ]
        }
      ]
    },
    {
      "cell_type": "code",
      "source": [
        "# Formatting\n",
        "\n",
        "x = 'Gayathri'\n",
        "if x == 'Gayathri':\n",
        "  print (f'My name is {x}')"
      ],
      "metadata": {
        "colab": {
          "base_uri": "https://localhost:8080/"
        },
        "id": "RjTOY_WPvdCT",
        "outputId": "aa68a3ee-137d-4987-a227-feda697f77b4"
      },
      "execution_count": null,
      "outputs": [
        {
          "output_type": "stream",
          "name": "stdout",
          "text": [
            "My name is Gayathri\n"
          ]
        }
      ]
    },
    {
      "cell_type": "code",
      "source": [
        "apples = 40\n",
        "oranges = 20\n",
        "\n",
        "print (f'I boughts {apples} apples and {oranges} oranges')"
      ],
      "metadata": {
        "colab": {
          "base_uri": "https://localhost:8080/"
        },
        "id": "b5XBVuS7vwbD",
        "outputId": "053f37de-eb4d-4d80-88db-7e66fb3abfb9"
      },
      "execution_count": null,
      "outputs": [
        {
          "output_type": "stream",
          "name": "stdout",
          "text": [
            "I boughts 40 apples and 20 oranges\n"
          ]
        }
      ]
    },
    {
      "cell_type": "code",
      "source": [
        "# Restrictions on how variable names are declared\n",
        "'''\n",
        "myvar,my_var,_my_var,myVar,MYVAR,myvar2 -- Legalones\n",
        "\n",
        "2myvar,my-var, my var - Illegal ones\n",
        "'''"
      ],
      "metadata": {
        "id": "VfLl1kH9v2uX"
      },
      "execution_count": null,
      "outputs": []
    },
    {
      "cell_type": "code",
      "source": [
        "x, y, z = 'Orange','Apple','Banana' # Many values to many vaiables\n",
        "\n",
        "print (x)\n",
        "print (y)\n",
        "print (z)"
      ],
      "metadata": {
        "colab": {
          "base_uri": "https://localhost:8080/"
        },
        "id": "p4-RvyQUv7Fy",
        "outputId": "d5a39a04-c4fb-45db-8120-44daf25225d5"
      },
      "execution_count": null,
      "outputs": [
        {
          "output_type": "stream",
          "name": "stdout",
          "text": [
            "Orange\n",
            "Apple\n",
            "Banana\n"
          ]
        }
      ]
    },
    {
      "cell_type": "code",
      "source": [
        "x = y = z = 'Grapes' #one value to multiple variables\n",
        "\n",
        "print (x)\n",
        "print (y)\n",
        "print (z)"
      ],
      "metadata": {
        "colab": {
          "base_uri": "https://localhost:8080/"
        },
        "id": "Z89Uo0VXwBX8",
        "outputId": "498b885e-9f56-484f-de7b-1bd98b7260d7"
      },
      "execution_count": null,
      "outputs": [
        {
          "output_type": "stream",
          "name": "stdout",
          "text": [
            "Grapes\n",
            "Grapes\n",
            "Grapes\n"
          ]
        }
      ]
    },
    {
      "cell_type": "code",
      "source": [
        "#unpack a collection\n",
        "\n",
        "fruits = ['apple','banana','Mango']\n",
        "x,y,z = fruits\n",
        "print (x)\n",
        "print (y)\n",
        "print (z)"
      ],
      "metadata": {
        "colab": {
          "base_uri": "https://localhost:8080/"
        },
        "id": "1rixeluswF26",
        "outputId": "fb94afae-4943-4923-ec37-8495897b5c47"
      },
      "execution_count": null,
      "outputs": [
        {
          "output_type": "stream",
          "name": "stdout",
          "text": [
            "apple\n",
            "banana\n",
            "Mango\n"
          ]
        }
      ]
    },
    {
      "cell_type": "code",
      "source": [
        "# 1. create collection of 4 names and print using format\n",
        "# 2. Create a varibles names with 4 legal and 4 ilegal\n",
        "# 3. Declare same value to 3 vaiables and convert first variable to string, second to float and third to float. print all three variables"
      ],
      "metadata": {
        "id": "QN79qZ3SwNHc"
      },
      "execution_count": null,
      "outputs": []
    },
    {
      "cell_type": "code",
      "source": [
        "names = ['ram','sita','laxman','john']\n",
        "\n",
        "x,y,z,w = names\n",
        "\n",
        "print (f'The name is {x}')\n",
        "print (f'The name is {y}')\n",
        "print (f'The name is {z}')\n",
        "print (f'The name is {w}')"
      ],
      "metadata": {
        "colab": {
          "base_uri": "https://localhost:8080/"
        },
        "id": "Nj_vb-qiwN_h",
        "outputId": "92bb1724-851f-42bd-9387-bad0372f8789"
      },
      "execution_count": null,
      "outputs": [
        {
          "output_type": "stream",
          "name": "stdout",
          "text": [
            "The name is ram\n",
            "The name is sita\n",
            "The name is laxman\n",
            "The name is john\n"
          ]
        }
      ]
    },
    {
      "cell_type": "code",
      "source": [
        "x=y=z=3\n",
        "print (str(x))\n",
        "print (float(y))\n",
        "print (float(z))"
      ],
      "metadata": {
        "colab": {
          "base_uri": "https://localhost:8080/"
        },
        "id": "uo9EOevawbaw",
        "outputId": "841ffb93-c8d9-4532-9e2a-cbb5459318ad"
      },
      "execution_count": null,
      "outputs": [
        {
          "output_type": "stream",
          "name": "stdout",
          "text": [
            "3\n",
            "3.0\n",
            "3.0\n"
          ]
        }
      ]
    },
    {
      "cell_type": "markdown",
      "source": [
        "#Print function for multiple variables"
      ],
      "metadata": {
        "id": "y3OuoHxlwj3u"
      }
    },
    {
      "cell_type": "code",
      "source": [
        "a = 'United' #string\n",
        "b = 'states' #string\n",
        "c = ' '\n",
        "print (a+b) #+ operator is used to concatenate two strings\n",
        "print (a+c+b)\n",
        "print (f'{a} {b}')"
      ],
      "metadata": {
        "colab": {
          "base_uri": "https://localhost:8080/"
        },
        "id": "DRkPP-KFwqoa",
        "outputId": "f1ccf9f3-2573-46ce-8c88-9ce970421eed"
      },
      "execution_count": null,
      "outputs": [
        {
          "output_type": "stream",
          "name": "stdout",
          "text": [
            "Unitedstates\n",
            "United states\n",
            "United states\n"
          ]
        }
      ]
    },
    {
      "cell_type": "code",
      "source": [
        "# Question is I bought 4 apples as varibales : Concatenate them\n",
        "\n",
        "x = 'I '\n",
        "y = 'bought '\n",
        "z = '4 '\n",
        "w = 'apples'\n",
        "\n",
        "print (x+y+z+w)"
      ],
      "metadata": {
        "colab": {
          "base_uri": "https://localhost:8080/"
        },
        "id": "wE_QhOncwurl",
        "outputId": "f17968ee-7bf6-4975-d88c-46c74506d4f4"
      },
      "execution_count": null,
      "outputs": [
        {
          "output_type": "stream",
          "name": "stdout",
          "text": [
            "I bought 4 apples\n"
          ]
        }
      ]
    },
    {
      "cell_type": "markdown",
      "source": [
        "#FUNCTIONS"
      ],
      "metadata": {
        "id": "AHLeSFt5w8q-"
      }
    },
    {
      "cell_type": "code",
      "source": [
        "'''\n",
        "Scenario : Addition of three numbers\n",
        "\n",
        "1,2,3\n",
        "4,5,6\n",
        "7,8,9\n",
        "'''"
      ],
      "metadata": {
        "id": "rIkQ6mt1xAcI"
      },
      "execution_count": null,
      "outputs": []
    },
    {
      "cell_type": "code",
      "source": [
        "x = 1\n",
        "y = 2\n",
        "z = 3\n",
        "\n",
        "print (x+y+z)\n",
        "\n",
        "x = 4\n",
        "y = 5\n",
        "z = 6\n",
        "\n",
        "print (x+y+z)\n",
        "\n",
        "x = 7\n",
        "y = 8\n",
        "z = 9\n",
        "\n",
        "print (x+y+z)"
      ],
      "metadata": {
        "colab": {
          "base_uri": "https://localhost:8080/"
        },
        "id": "6Eo69yJbxEPG",
        "outputId": "11f59455-d58d-4912-b154-783667aee471"
      },
      "execution_count": null,
      "outputs": [
        {
          "output_type": "stream",
          "name": "stdout",
          "text": [
            "6\n",
            "15\n",
            "24\n"
          ]
        }
      ]
    },
    {
      "cell_type": "code",
      "source": [
        "def sum3(x,y,z): # def funcname(arguments) : Function creation\n",
        "  sum = x+y+z\n",
        "  return sum\n",
        "\n",
        "print (sum3(1,2,3)) # function calling\n",
        "print (sum3(4,5,6)) # function calling\n",
        "print (sum3(7,8,9)) # function calling"
      ],
      "metadata": {
        "colab": {
          "base_uri": "https://localhost:8080/"
        },
        "id": "zDrb_RBzxMz2",
        "outputId": "1ab612ec-c5bb-4d98-e613-9dbb5c300c19"
      },
      "execution_count": null,
      "outputs": [
        {
          "output_type": "stream",
          "name": "stdout",
          "text": [
            "6\n",
            "15\n",
            "24\n"
          ]
        }
      ]
    },
    {
      "cell_type": "code",
      "source": [
        "# declare a variable with a value awesome and create a function that prints \"Python is awesome\"\n",
        "\n",
        "def func1(a): #varibles that are there in the method are called local variables\n",
        "  x = 'fantastic'\n",
        "  print (f'Python is {a}')\n",
        "\n",
        "x = 'awesome' #varibles that are declared outside the method are called as global variables\n",
        "func1(x)"
      ],
      "metadata": {
        "colab": {
          "base_uri": "https://localhost:8080/"
        },
        "id": "qak9TfPIxRdU",
        "outputId": "1a42e62b-9320-4e8e-ca98-45e0a68943fb"
      },
      "execution_count": null,
      "outputs": [
        {
          "output_type": "stream",
          "name": "stdout",
          "text": [
            "Python is awesome\n"
          ]
        }
      ]
    },
    {
      "cell_type": "code",
      "source": [
        "variable = \"awesome\"\n",
        "def print_x(m):\n",
        "    print(\"Python is\",m)\n",
        "\n",
        "print_x(variable)"
      ],
      "metadata": {
        "colab": {
          "base_uri": "https://localhost:8080/"
        },
        "id": "y_wwp7gDxVNJ",
        "outputId": "98b6fd1a-2e10-441b-f30d-756e4a022c56"
      },
      "execution_count": null,
      "outputs": [
        {
          "output_type": "stream",
          "name": "stdout",
          "text": [
            "Python is awesome\n"
          ]
        }
      ]
    },
    {
      "cell_type": "code",
      "source": [
        "# python method to find sum and multiplication of three numbers\n",
        "# hint : methodname(2,3,4,'sum')\n",
        "\n",
        "def summul(a,b,c,operation):\n",
        "  if operation == 'sum':\n",
        "    ans = a+b+c\n",
        "\n",
        "  if operation == 'mul':\n",
        "    ans = a*b*c\n",
        "\n",
        "  return ans"
      ],
      "metadata": {
        "id": "Fg_AoHVrxZvC"
      },
      "execution_count": null,
      "outputs": []
    },
    {
      "cell_type": "code",
      "source": [
        "summul(2,3,4,'sum')"
      ],
      "metadata": {
        "colab": {
          "base_uri": "https://localhost:8080/"
        },
        "id": "g98_YkpfxapD",
        "outputId": "76813fef-9aa3-4e5b-a79d-b608270b9953"
      },
      "execution_count": null,
      "outputs": [
        {
          "output_type": "execute_result",
          "data": {
            "text/plain": [
              "9"
            ]
          },
          "metadata": {},
          "execution_count": 34
        }
      ]
    },
    {
      "cell_type": "code",
      "source": [
        "summul(2,3,4,'mul')"
      ],
      "metadata": {
        "colab": {
          "base_uri": "https://localhost:8080/"
        },
        "id": "Vmgt7GLBxiNf",
        "outputId": "684e8d5b-e4c9-4f51-dd60-3f313fc049b9"
      },
      "execution_count": null,
      "outputs": [
        {
          "output_type": "execute_result",
          "data": {
            "text/plain": [
              "24"
            ]
          },
          "metadata": {},
          "execution_count": 35
        }
      ]
    },
    {
      "cell_type": "code",
      "source": [
        "5%2"
      ],
      "metadata": {
        "colab": {
          "base_uri": "https://localhost:8080/"
        },
        "id": "NL9zR4eFxl2v",
        "outputId": "c1575de5-6d67-4c4c-a406-71587d54a65a"
      },
      "execution_count": null,
      "outputs": [
        {
          "output_type": "execute_result",
          "data": {
            "text/plain": [
              "1"
            ]
          },
          "metadata": {},
          "execution_count": 36
        }
      ]
    },
    {
      "cell_type": "code",
      "source": [
        "# python method findevenorodd(45)\n",
        "#Hint : num % 2 == 0 : % Remainder\n",
        "\n",
        "def findevenorodd(num):\n",
        "  if (num % 2 == 0):\n",
        "    print ('even')\n",
        "  if (num % 2 != 0):\n",
        "    print ('odd')\n",
        "\n",
        "findevenorodd(45)"
      ],
      "metadata": {
        "colab": {
          "base_uri": "https://localhost:8080/"
        },
        "id": "FCoGOjEtxtA4",
        "outputId": "b520b7b8-4cc1-42cd-da32-67863204db77"
      },
      "execution_count": null,
      "outputs": [
        {
          "output_type": "stream",
          "name": "stdout",
          "text": [
            "odd\n"
          ]
        }
      ]
    },
    {
      "cell_type": "code",
      "source": [
        "def findevenorodd(num):\n",
        "  if (num % 2 == 0):\n",
        "    result = 'even'\n",
        "  if (num % 2 != 0):\n",
        "    result = 'odd'\n",
        "  return result\n",
        "\n",
        "findevenorodd(444)"
      ],
      "metadata": {
        "colab": {
          "base_uri": "https://localhost:8080/",
          "height": 35
        },
        "id": "COBU3cCax5Ra",
        "outputId": "54e63336-62bd-462f-c262-4bc3b316e671"
      },
      "execution_count": null,
      "outputs": [
        {
          "output_type": "execute_result",
          "data": {
            "text/plain": [
              "'even'"
            ],
            "application/vnd.google.colaboratory.intrinsic+json": {
              "type": "string"
            }
          },
          "metadata": {},
          "execution_count": 38
        }
      ]
    },
    {
      "cell_type": "markdown",
      "source": [
        "#Data types in python"
      ],
      "metadata": {
        "id": "KVNDKu2fyAYi"
      }
    },
    {
      "cell_type": "code",
      "source": [
        "'''\n",
        "Text type : str\n",
        "NUmeric ical TYpes : int, float, comple\n",
        "Sequene datatypes : list, tuple and range\n",
        "Mapping TYpe : dict\n",
        "settypes : set\n",
        "Boolean Type:\tbool\n",
        "Binary Types:\tbytes, bytearray, memoryview\n",
        "None Type:\tNoneType\n",
        "'''\n",
        "x = 'Dog killed a cat'\n",
        "y = 64\n",
        "z = 75.432\n",
        "m1 = ['aijigr','fhuwhebr','fg'] # list needs to be in square bracket, list can take only strings, only numbers or both\n",
        "m2 = [4,5.67,5.21]\n",
        "m3 = ['deesg',4.4,'gregr']\n",
        "n1 = ()\n",
        "l1 = [i for i in range(10)]\n",
        "l2 = [i for i in range(0,5)] #(start position, end_position)\n",
        "l3 = [i for i in range(0,5,2)]"
      ],
      "metadata": {
        "id": "WRMXNrWgyF3z"
      },
      "execution_count": null,
      "outputs": []
    },
    {
      "cell_type": "code",
      "source": [
        "l3 = [i for i in range(0,5,3)]\n",
        "l3"
      ],
      "metadata": {
        "colab": {
          "base_uri": "https://localhost:8080/"
        },
        "id": "WJaGdphMIZXl",
        "outputId": "ebdc928e-a1c7-46a0-cf96-f8a1c9b7dc04"
      },
      "execution_count": null,
      "outputs": [
        {
          "output_type": "execute_result",
          "data": {
            "text/plain": [
              "[0, 3]"
            ]
          },
          "metadata": {},
          "execution_count": 4
        }
      ]
    },
    {
      "cell_type": "code",
      "source": [
        "l1"
      ],
      "metadata": {
        "colab": {
          "base_uri": "https://localhost:8080/"
        },
        "id": "K5ANJ3hayKeb",
        "outputId": "e6e52279-ce8c-4c97-ad7e-daea2aef269b"
      },
      "execution_count": null,
      "outputs": [
        {
          "output_type": "execute_result",
          "data": {
            "text/plain": [
              "[0, 1, 2, 3, 4, 5, 6, 7, 8, 9]"
            ]
          },
          "metadata": {},
          "execution_count": 42
        }
      ]
    },
    {
      "cell_type": "code",
      "source": [
        "l2"
      ],
      "metadata": {
        "colab": {
          "base_uri": "https://localhost:8080/"
        },
        "id": "HJwJeLg_yT3r",
        "outputId": "d82439bb-59d1-40ac-80a8-c5134f7fe2ac"
      },
      "execution_count": null,
      "outputs": [
        {
          "output_type": "execute_result",
          "data": {
            "text/plain": [
              "[0, 1, 2, 3, 4]"
            ]
          },
          "metadata": {},
          "execution_count": 43
        }
      ]
    },
    {
      "cell_type": "code",
      "source": [
        "l3"
      ],
      "metadata": {
        "colab": {
          "base_uri": "https://localhost:8080/"
        },
        "id": "YYplO3IfyXjl",
        "outputId": "8787339f-39ab-4677-a17f-d7610b84aeae"
      },
      "execution_count": null,
      "outputs": [
        {
          "output_type": "execute_result",
          "data": {
            "text/plain": [
              "[0, 2, 4]"
            ]
          },
          "metadata": {},
          "execution_count": 44
        }
      ]
    },
    {
      "cell_type": "code",
      "source": [
        "print(type(x))\n",
        "print(type(y))\n",
        "print(type(z))"
      ],
      "metadata": {
        "colab": {
          "base_uri": "https://localhost:8080/"
        },
        "id": "PSJiJtL-yZ1I",
        "outputId": "6e28963b-dbbd-49d5-f510-9e2b9f12ff14"
      },
      "execution_count": null,
      "outputs": [
        {
          "output_type": "stream",
          "name": "stdout",
          "text": [
            "<class 'str'>\n",
            "<class 'int'>\n",
            "<class 'float'>\n"
          ]
        }
      ]
    },
    {
      "cell_type": "code",
      "source": [
        "l2 = [i for i in range(20,40)]\n",
        "l2 = [i for i in range(20,40,4)]"
      ],
      "metadata": {
        "id": "UbUZJodQyeyB"
      },
      "execution_count": null,
      "outputs": []
    },
    {
      "cell_type": "code",
      "source": [
        "[i for i in range(20,40,4)]"
      ],
      "metadata": {
        "colab": {
          "base_uri": "https://localhost:8080/"
        },
        "id": "oPfij5yoLjjG",
        "outputId": "04df190f-0f03-476f-f459-48f3bdeb1515"
      },
      "execution_count": null,
      "outputs": [
        {
          "output_type": "execute_result",
          "data": {
            "text/plain": [
              "[20, 24, 28, 32, 36]"
            ]
          },
          "metadata": {},
          "execution_count": 6
        }
      ]
    },
    {
      "cell_type": "code",
      "source": [
        "x=1\n",
        "y=2.8"
      ],
      "metadata": {
        "id": "wBT-edBILqCP"
      },
      "execution_count": null,
      "outputs": []
    },
    {
      "cell_type": "code",
      "source": [
        "type(x)"
      ],
      "metadata": {
        "colab": {
          "base_uri": "https://localhost:8080/"
        },
        "id": "YyZD8lf5MB_5",
        "outputId": "c5c67ecb-9888-4947-ec1d-67cc5736f1c4"
      },
      "execution_count": null,
      "outputs": [
        {
          "output_type": "execute_result",
          "data": {
            "text/plain": [
              "int"
            ]
          },
          "metadata": {},
          "execution_count": 13
        }
      ]
    },
    {
      "cell_type": "code",
      "source": [
        "type(y)"
      ],
      "metadata": {
        "colab": {
          "base_uri": "https://localhost:8080/"
        },
        "id": "_kqDrJwXyyDK",
        "outputId": "eb291994-d069-4774-b691-c8e3dd67ca25"
      },
      "execution_count": null,
      "outputs": [
        {
          "output_type": "execute_result",
          "data": {
            "text/plain": [
              "float"
            ]
          },
          "metadata": {},
          "execution_count": 49
        }
      ]
    },
    {
      "cell_type": "code",
      "source": [
        "a=float(x)\n",
        "b=int(y)"
      ],
      "metadata": {
        "id": "6gPgrTHrMYQN"
      },
      "execution_count": null,
      "outputs": []
    },
    {
      "cell_type": "code",
      "source": [
        "import random #import is a keyword to call the libraries into your code\n",
        "random.randrange(1,10)"
      ],
      "metadata": {
        "colab": {
          "base_uri": "https://localhost:8080/"
        },
        "id": "lsUVjEOVMe3c",
        "outputId": "c4f5119e-615a-425d-994f-d04502f7d1d6"
      },
      "execution_count": null,
      "outputs": [
        {
          "output_type": "execute_result",
          "data": {
            "text/plain": [
              "7"
            ]
          },
          "metadata": {},
          "execution_count": 15
        }
      ]
    },
    {
      "cell_type": "code",
      "source": [
        "x=\"1\" #str(1)"
      ],
      "metadata": {
        "id": "nm3Q7Z4gM78H"
      },
      "execution_count": null,
      "outputs": []
    },
    {
      "cell_type": "code",
      "source": [
        "float(x)"
      ],
      "metadata": {
        "colab": {
          "base_uri": "https://localhost:8080/"
        },
        "id": "RutElEUUNLQd",
        "outputId": "b98b0e4b-c46d-4a73-c618-ecc535784fe0"
      },
      "execution_count": null,
      "outputs": [
        {
          "output_type": "execute_result",
          "data": {
            "text/plain": [
              "1.0"
            ]
          },
          "metadata": {},
          "execution_count": 19
        }
      ]
    },
    {
      "cell_type": "markdown",
      "source": [
        "#strings"
      ],
      "metadata": {
        "id": "9EgEAXItNhdj"
      }
    },
    {
      "cell_type": "code",
      "source": [
        "x=\"HI\"\n",
        "print(x)"
      ],
      "metadata": {
        "colab": {
          "base_uri": "https://localhost:8080/"
        },
        "id": "qqcw4LdzNj8R",
        "outputId": "b50c8083-e910-40bb-d792-08d3ffef9d81"
      },
      "execution_count": null,
      "outputs": [
        {
          "output_type": "stream",
          "name": "stdout",
          "text": [
            "HI\n"
          ]
        }
      ]
    },
    {
      "cell_type": "code",
      "source": [
        "b='''\n",
        "This is a datascience course\n",
        "we are learning python\n",
        "'''\n",
        "\n",
        "print(b)"
      ],
      "metadata": {
        "colab": {
          "base_uri": "https://localhost:8080/"
        },
        "id": "3CTPISASNssm",
        "outputId": "06440778-6f94-47a8-8427-424300674ec4"
      },
      "execution_count": null,
      "outputs": [
        {
          "output_type": "stream",
          "name": "stdout",
          "text": [
            "\n",
            "This is a datascience course\n",
            "we are learning python \n",
            "\n"
          ]
        }
      ]
    },
    {
      "cell_type": "code",
      "source": [
        "a= 'Hello computer'\n",
        "a[0]"
      ],
      "metadata": {
        "colab": {
          "base_uri": "https://localhost:8080/",
          "height": 36
        },
        "id": "eavVu4R6OFAD",
        "outputId": "22683ef0-408c-4c31-9690-5f83a1bb5c61"
      },
      "execution_count": null,
      "outputs": [
        {
          "output_type": "execute_result",
          "data": {
            "text/plain": [
              "'H'"
            ],
            "application/vnd.google.colaboratory.intrinsic+json": {
              "type": "string"
            }
          },
          "metadata": {},
          "execution_count": 24
        }
      ]
    },
    {
      "cell_type": "code",
      "source": [
        "len(a)"
      ],
      "metadata": {
        "colab": {
          "base_uri": "https://localhost:8080/"
        },
        "id": "W3glXwzGOXFE",
        "outputId": "de7237ea-5377-40b2-cd1e-72c80ceb566d"
      },
      "execution_count": null,
      "outputs": [
        {
          "output_type": "execute_result",
          "data": {
            "text/plain": [
              "14"
            ]
          },
          "metadata": {},
          "execution_count": 25
        }
      ]
    },
    {
      "cell_type": "code",
      "source": [
        "for i in a:\n",
        "  print(i)"
      ],
      "metadata": {
        "colab": {
          "base_uri": "https://localhost:8080/"
        },
        "id": "iCl6NZO5ObSH",
        "outputId": "47c02055-e70d-4866-9964-e089120d7634"
      },
      "execution_count": null,
      "outputs": [
        {
          "output_type": "stream",
          "name": "stdout",
          "text": [
            "H\n",
            "e\n",
            "l\n",
            "l\n",
            "o\n",
            " \n",
            "c\n",
            "o\n",
            "m\n",
            "p\n",
            "u\n",
            "t\n",
            "e\n",
            "r\n"
          ]
        }
      ]
    },
    {
      "cell_type": "code",
      "source": [
        "for i in range(0,len(a)):\n",
        "  print(a[i])"
      ],
      "metadata": {
        "colab": {
          "base_uri": "https://localhost:8080/"
        },
        "id": "_Yx5hnjuOkhK",
        "outputId": "fd442d17-4396-467b-cf21-7b3c352d83b9"
      },
      "execution_count": null,
      "outputs": [
        {
          "output_type": "stream",
          "name": "stdout",
          "text": [
            "H\n",
            "e\n",
            "l\n",
            "l\n",
            "o\n",
            " \n",
            "c\n",
            "o\n",
            "m\n",
            "p\n",
            "u\n",
            "t\n",
            "e\n",
            "r\n"
          ]
        }
      ]
    },
    {
      "cell_type": "code",
      "source": [
        "a.split(' ')"
      ],
      "metadata": {
        "colab": {
          "base_uri": "https://localhost:8080/"
        },
        "id": "AcTOeroQO55w",
        "outputId": "2dcd9d20-ee81-4e82-fb9e-4ad9b4d21b5a"
      },
      "execution_count": null,
      "outputs": [
        {
          "output_type": "execute_result",
          "data": {
            "text/plain": [
              "['Hello', 'computer']"
            ]
          },
          "metadata": {},
          "execution_count": 30
        }
      ]
    },
    {
      "cell_type": "code",
      "source": [
        "str='my name is Gayathri'\n",
        "print(str.split(' '))"
      ],
      "metadata": {
        "colab": {
          "base_uri": "https://localhost:8080/"
        },
        "id": "LRQKXLPdPJc1",
        "outputId": "a655a82b-c4c5-4f7c-a59e-13584e9f3cda"
      },
      "execution_count": null,
      "outputs": [
        {
          "output_type": "stream",
          "name": "stdout",
          "text": [
            "['my', 'name', 'is', 'Gayathri']\n"
          ]
        }
      ]
    },
    {
      "cell_type": "code",
      "source": [
        "str1 = \"this is a basic class of python\"\n",
        "print(\"class\" in str1)"
      ],
      "metadata": {
        "colab": {
          "base_uri": "https://localhost:8080/"
        },
        "id": "tf1BeFqqPtst",
        "outputId": "6ee3f6b0-886b-448a-8321-5afe436d5a4f"
      },
      "execution_count": null,
      "outputs": [
        {
          "output_type": "stream",
          "name": "stdout",
          "text": [
            "True\n"
          ]
        }
      ]
    },
    {
      "cell_type": "code",
      "source": [
        "str1 = \"this a basic class of python\"\n",
        "if \"class\" in str1:\n",
        "  print(\"True\")\n",
        "else:\n",
        "  print(\"False\")"
      ],
      "metadata": {
        "colab": {
          "base_uri": "https://localhost:8080/"
        },
        "id": "SV4NV6SrP8u1",
        "outputId": "55256ae9-509f-4726-c518-0cbac51dc5b4"
      },
      "execution_count": null,
      "outputs": [
        {
          "output_type": "stream",
          "name": "stdout",
          "text": [
            "True\n"
          ]
        }
      ]
    },
    {
      "cell_type": "code",
      "source": [
        "if \"expensive\" in str1:\n",
        "  print(\"True\")\n",
        "else:\n",
        "  print(\"False\")"
      ],
      "metadata": {
        "colab": {
          "base_uri": "https://localhost:8080/"
        },
        "id": "QEnZsWWFQhJU",
        "outputId": "f6bb02cb-af22-46f0-ecde-26fd287ccdc1"
      },
      "execution_count": null,
      "outputs": [
        {
          "output_type": "stream",
          "name": "stdout",
          "text": [
            "False\n"
          ]
        }
      ]
    },
    {
      "cell_type": "code",
      "source": [
        "str2 = \"Hello world\"\n",
        "str2[2:5] #always indexing happens in forward direction"
      ],
      "metadata": {
        "colab": {
          "base_uri": "https://localhost:8080/",
          "height": 35
        },
        "id": "vgyqjVHBQxeI",
        "outputId": "e5b10668-b438-490a-df86-6ac66693fb8b"
      },
      "execution_count": null,
      "outputs": [
        {
          "output_type": "execute_result",
          "data": {
            "text/plain": [
              "'llo'"
            ],
            "application/vnd.google.colaboratory.intrinsic+json": {
              "type": "string"
            }
          },
          "metadata": {},
          "execution_count": 8
        }
      ]
    },
    {
      "cell_type": "code",
      "source": [
        "str2[:4]"
      ],
      "metadata": {
        "colab": {
          "base_uri": "https://localhost:8080/",
          "height": 35
        },
        "id": "G9t6CFFyRILj",
        "outputId": "864fd21e-8fc0-48be-9191-5c37ac976a1a"
      },
      "execution_count": null,
      "outputs": [
        {
          "output_type": "execute_result",
          "data": {
            "text/plain": [
              "'Hell'"
            ],
            "application/vnd.google.colaboratory.intrinsic+json": {
              "type": "string"
            }
          },
          "metadata": {},
          "execution_count": 9
        }
      ]
    },
    {
      "cell_type": "code",
      "source": [
        "str2[3:]"
      ],
      "metadata": {
        "id": "NZg8y-eJRWgF",
        "colab": {
          "base_uri": "https://localhost:8080/",
          "height": 35
        },
        "outputId": "c12feb2c-0933-4567-a3a9-0e1c4dabb5a4"
      },
      "execution_count": null,
      "outputs": [
        {
          "output_type": "execute_result",
          "data": {
            "text/plain": [
              "'lo world'"
            ],
            "application/vnd.google.colaboratory.intrinsic+json": {
              "type": "string"
            }
          },
          "metadata": {},
          "execution_count": 10
        }
      ]
    },
    {
      "cell_type": "code",
      "source": [
        "str2[-5:-1]"
      ],
      "metadata": {
        "colab": {
          "base_uri": "https://localhost:8080/",
          "height": 36
        },
        "id": "RFtIJVMORZ-K",
        "outputId": "d3472cc1-23f3-4323-ce6d-7063f5a0a75b"
      },
      "execution_count": null,
      "outputs": [
        {
          "output_type": "execute_result",
          "data": {
            "text/plain": [
              "'worl'"
            ],
            "application/vnd.google.colaboratory.intrinsic+json": {
              "type": "string"
            }
          },
          "metadata": {},
          "execution_count": 44
        }
      ]
    },
    {
      "cell_type": "code",
      "source": [
        "str3 = \"ram killed ravana\"\n",
        "str3.upper()"
      ],
      "metadata": {
        "colab": {
          "base_uri": "https://localhost:8080/",
          "height": 36
        },
        "id": "duxIz3yMRosX",
        "outputId": "ff9233e1-2535-4df3-d176-910d9a33bdd9"
      },
      "execution_count": null,
      "outputs": [
        {
          "output_type": "execute_result",
          "data": {
            "text/plain": [
              "'RAM KILLED RAVANA'"
            ],
            "application/vnd.google.colaboratory.intrinsic+json": {
              "type": "string"
            }
          },
          "metadata": {},
          "execution_count": 45
        }
      ]
    },
    {
      "cell_type": "code",
      "source": [
        "str3.lower()"
      ],
      "metadata": {
        "colab": {
          "base_uri": "https://localhost:8080/",
          "height": 36
        },
        "id": "-FKZhWQfSLDA",
        "outputId": "0882816e-6bfe-4ec6-cb24-db61094fdc91"
      },
      "execution_count": null,
      "outputs": [
        {
          "output_type": "execute_result",
          "data": {
            "text/plain": [
              "'ram killed ravana'"
            ],
            "application/vnd.google.colaboratory.intrinsic+json": {
              "type": "string"
            }
          },
          "metadata": {},
          "execution_count": 46
        }
      ]
    },
    {
      "cell_type": "code",
      "source": [
        "str3.replace(\"ram\",\"king of ayodhya\")"
      ],
      "metadata": {
        "colab": {
          "base_uri": "https://localhost:8080/",
          "height": 36
        },
        "id": "nPUrbALoSKu2",
        "outputId": "89c7535a-480c-47bb-ec24-9a7c074d391f"
      },
      "execution_count": null,
      "outputs": [
        {
          "output_type": "execute_result",
          "data": {
            "text/plain": [
              "'king of ayodhya killed ravana'"
            ],
            "application/vnd.google.colaboratory.intrinsic+json": {
              "type": "string"
            }
          },
          "metadata": {},
          "execution_count": 48
        }
      ]
    },
    {
      "cell_type": "code",
      "source": [
        "a=\"Hello\"\n",
        "b=\"world\"\n",
        "a+b"
      ],
      "metadata": {
        "colab": {
          "base_uri": "https://localhost:8080/",
          "height": 36
        },
        "id": "sPA6due8Sa5M",
        "outputId": "a643b6d6-700a-4bc7-cc6c-5a3cf39012d3"
      },
      "execution_count": null,
      "outputs": [
        {
          "output_type": "execute_result",
          "data": {
            "text/plain": [
              "'Helloworld'"
            ],
            "application/vnd.google.colaboratory.intrinsic+json": {
              "type": "string"
            }
          },
          "metadata": {},
          "execution_count": 53
        }
      ]
    },
    {
      "cell_type": "code",
      "source": [
        "a+ ' ' +b"
      ],
      "metadata": {
        "colab": {
          "base_uri": "https://localhost:8080/",
          "height": 36
        },
        "id": "ubfpA_IkThnz",
        "outputId": "77953ec2-50ba-4f80-ab19-9d63aa6c8066"
      },
      "execution_count": null,
      "outputs": [
        {
          "output_type": "execute_result",
          "data": {
            "text/plain": [
              "'Hello world'"
            ],
            "application/vnd.google.colaboratory.intrinsic+json": {
              "type": "string"
            }
          },
          "metadata": {},
          "execution_count": 56
        }
      ]
    },
    {
      "cell_type": "markdown",
      "source": [
        "#Boolean operators"
      ],
      "metadata": {
        "id": "hpARRjM_UYfO"
      }
    },
    {
      "cell_type": "code",
      "source": [
        "print(10>5)"
      ],
      "metadata": {
        "colab": {
          "base_uri": "https://localhost:8080/"
        },
        "id": "6rB1lLs_UcJZ",
        "outputId": "5f0ec5b0-67f1-4595-e623-8a433e4132f3"
      },
      "execution_count": null,
      "outputs": [
        {
          "output_type": "stream",
          "name": "stdout",
          "text": [
            "True\n"
          ]
        }
      ]
    },
    {
      "cell_type": "code",
      "source": [
        "print(5==9)"
      ],
      "metadata": {
        "colab": {
          "base_uri": "https://localhost:8080/"
        },
        "id": "SpZyY1OpUiLQ",
        "outputId": "4faf254c-3628-4935-f1ad-b57c8b3dae32"
      },
      "execution_count": null,
      "outputs": [
        {
          "output_type": "stream",
          "name": "stdout",
          "text": [
            "False\n"
          ]
        }
      ]
    },
    {
      "cell_type": "code",
      "source": [
        "a=200\n",
        "b=13\n",
        "if b>a:\n",
        "  print(\"Hi\")\n",
        "else:\n",
        "  print(\"Hello\")"
      ],
      "metadata": {
        "colab": {
          "base_uri": "https://localhost:8080/"
        },
        "id": "4uwceCa0UmO1",
        "outputId": "c371fbcd-fd3e-43ba-9c33-ea6b1ba021db"
      },
      "execution_count": null,
      "outputs": [
        {
          "output_type": "stream",
          "name": "stdout",
          "text": [
            "Hello\n"
          ]
        }
      ]
    },
    {
      "cell_type": "code",
      "source": [
        "def evenodd(x):\n",
        "  for i in x:\n",
        "\n",
        "    if i%2==0:\n",
        "      print(i)\n",
        "li = [i for i in range(0,10)]\n",
        "evenodd(9)"
      ],
      "metadata": {
        "id": "ksm0S8X5VaxH"
      },
      "execution_count": null,
      "outputs": []
    },
    {
      "cell_type": "code",
      "source": [
        "l1 = [10,20]"
      ],
      "metadata": {
        "id": "GeNlcF1KXWvm"
      },
      "execution_count": null,
      "outputs": []
    },
    {
      "cell_type": "code",
      "source": [
        "def mathfunc(a,operation):\n",
        "  if operation == 'addition':\n",
        "    sum = 0\n",
        "    for i in a:\n",
        "      sum= sum+i\n",
        "    return sum\n",
        "  if operation == 'substraction':\n",
        "    sub = a[0]\n",
        "    for i in a[1:]:\n",
        "      sub = sub-i\n",
        "    return sub\n",
        "  if operation == 'Multiplication':\n",
        "    total = 1\n",
        "    for i in a:\n",
        "      total = total*i\n",
        "    return total\n",
        "  if operation == 'Division':\n",
        "    div = a[0]\n",
        "    for i in a[1:]:\n",
        "      div = div/i\n",
        "    return div"
      ],
      "metadata": {
        "id": "oR8FSmDcWTQb"
      },
      "execution_count": null,
      "outputs": []
    },
    {
      "cell_type": "code",
      "source": [
        "l1 = [10,20]"
      ],
      "metadata": {
        "id": "teXXS_UFYJdA"
      },
      "execution_count": null,
      "outputs": []
    },
    {
      "cell_type": "code",
      "source": [
        "mathfunc(l1,'addition')"
      ],
      "metadata": {
        "colab": {
          "base_uri": "https://localhost:8080/"
        },
        "id": "IvMuQZ0nYMKi",
        "outputId": "6d5f0aaf-08f4-4d15-adc9-92ba95fc038a"
      },
      "execution_count": null,
      "outputs": [
        {
          "output_type": "execute_result",
          "data": {
            "text/plain": [
              "30"
            ]
          },
          "metadata": {},
          "execution_count": 11
        }
      ]
    },
    {
      "cell_type": "code",
      "source": [
        "mathfunc(l1,'substraction')"
      ],
      "metadata": {
        "colab": {
          "base_uri": "https://localhost:8080/"
        },
        "id": "7J8FUs5VYUix",
        "outputId": "f6106427-fa79-457b-ce73-7c381be378a5"
      },
      "execution_count": null,
      "outputs": [
        {
          "output_type": "execute_result",
          "data": {
            "text/plain": [
              "-10"
            ]
          },
          "metadata": {},
          "execution_count": 14
        }
      ]
    },
    {
      "cell_type": "code",
      "source": [
        "mathfunc(l1,'Multiplication')"
      ],
      "metadata": {
        "colab": {
          "base_uri": "https://localhost:8080/"
        },
        "id": "ImNGroBFZ_j_",
        "outputId": "b818200f-244d-400c-c007-23ec6676eb7d"
      },
      "execution_count": null,
      "outputs": [
        {
          "output_type": "execute_result",
          "data": {
            "text/plain": [
              "200"
            ]
          },
          "metadata": {},
          "execution_count": 18
        }
      ]
    },
    {
      "cell_type": "code",
      "source": [
        "mathfunc(l1,'Division')"
      ],
      "metadata": {
        "colab": {
          "base_uri": "https://localhost:8080/"
        },
        "id": "3IM-F7mcacsK",
        "outputId": "d841095f-2f80-40f9-b6d2-16043471edd2"
      },
      "execution_count": null,
      "outputs": [
        {
          "output_type": "execute_result",
          "data": {
            "text/plain": [
              "0.5"
            ]
          },
          "metadata": {},
          "execution_count": 24
        }
      ]
    },
    {
      "cell_type": "code",
      "source": [
        "for i in range(0,21):\n",
        "  if i%2==0:\n",
        "    print(i,'even')\n",
        "  else:\n",
        "    print(i,'odd')"
      ],
      "metadata": {
        "id": "flXDXkEqmBrI",
        "colab": {
          "base_uri": "https://localhost:8080/"
        },
        "outputId": "c23f2828-4bf3-43ef-a120-e88442ec830a"
      },
      "execution_count": null,
      "outputs": [
        {
          "output_type": "stream",
          "name": "stdout",
          "text": [
            "0 even\n",
            "1 odd\n",
            "2 even\n",
            "3 odd\n",
            "4 even\n",
            "5 odd\n",
            "6 even\n",
            "7 odd\n",
            "8 even\n",
            "9 odd\n",
            "10 even\n",
            "11 odd\n",
            "12 even\n",
            "13 odd\n",
            "14 even\n",
            "15 odd\n",
            "16 even\n",
            "17 odd\n",
            "18 even\n",
            "19 odd\n",
            "20 even\n"
          ]
        }
      ]
    },
    {
      "cell_type": "markdown",
      "source": [
        "# OPERATORS"
      ],
      "metadata": {
        "id": "-Rsz6sbKiNwV"
      }
    },
    {
      "cell_type": "code",
      "source": [
        "' ' '\n",
        "Arithmetic operators\n",
        "assignment operators\n",
        "logical operators\n",
        "' ' '"
      ],
      "metadata": {
        "id": "OCBt11cDiQ0s"
      },
      "execution_count": null,
      "outputs": []
    },
    {
      "cell_type": "code",
      "source": [
        "a=5\n",
        "b=10"
      ],
      "metadata": {
        "id": "fLv8vmciSO8T"
      },
      "execution_count": null,
      "outputs": []
    },
    {
      "cell_type": "code",
      "source": [
        "a+b"
      ],
      "metadata": {
        "colab": {
          "base_uri": "https://localhost:8080/"
        },
        "id": "k4cOewnLSQcu",
        "outputId": "f4eee487-77e8-4fec-afc6-da487c610c33"
      },
      "execution_count": null,
      "outputs": [
        {
          "output_type": "execute_result",
          "data": {
            "text/plain": [
              "15"
            ]
          },
          "metadata": {},
          "execution_count": 6
        }
      ]
    },
    {
      "cell_type": "code",
      "source": [
        "a-b"
      ],
      "metadata": {
        "colab": {
          "base_uri": "https://localhost:8080/"
        },
        "id": "F8kSc_6NSexn",
        "outputId": "5f05f910-5b55-4125-f0ae-327dc7cec168"
      },
      "execution_count": null,
      "outputs": [
        {
          "output_type": "execute_result",
          "data": {
            "text/plain": [
              "-5"
            ]
          },
          "metadata": {},
          "execution_count": 7
        }
      ]
    },
    {
      "cell_type": "code",
      "source": [
        "a%b"
      ],
      "metadata": {
        "colab": {
          "base_uri": "https://localhost:8080/"
        },
        "id": "y1q1ulFRouMe",
        "outputId": "fee2fdf0-8735-4784-ffa5-aa8a7e6830b9"
      },
      "execution_count": null,
      "outputs": [
        {
          "output_type": "execute_result",
          "data": {
            "text/plain": [
              "5"
            ]
          },
          "metadata": {},
          "execution_count": 2
        }
      ]
    },
    {
      "cell_type": "code",
      "source": [
        "a//b"
      ],
      "metadata": {
        "colab": {
          "base_uri": "https://localhost:8080/"
        },
        "id": "yNLGfLlko2j0",
        "outputId": "7703f2f0-f2a9-4fa9-9b92-60cab7c6c851"
      },
      "execution_count": null,
      "outputs": [
        {
          "output_type": "execute_result",
          "data": {
            "text/plain": [
              "0"
            ]
          },
          "metadata": {},
          "execution_count": 4
        }
      ]
    },
    {
      "cell_type": "code",
      "source": [
        "x=10\n",
        "y=7"
      ],
      "metadata": {
        "id": "OdwOsi4Kc-7W"
      },
      "execution_count": null,
      "outputs": []
    },
    {
      "cell_type": "code",
      "source": [
        "# % modulus : gives the reminder of division\n",
        "x%y"
      ],
      "metadata": {
        "colab": {
          "base_uri": "https://localhost:8080/"
        },
        "id": "nb5lc081cqPK",
        "outputId": "b0bebd63-bb89-44d2-95db-5110c3de5c99"
      },
      "execution_count": null,
      "outputs": [
        {
          "output_type": "execute_result",
          "data": {
            "text/plain": [
              "3"
            ]
          },
          "metadata": {},
          "execution_count": 3
        }
      ]
    },
    {
      "cell_type": "code",
      "source": [
        "x=7\n",
        "y=3\n",
        "print(x/y)"
      ],
      "metadata": {
        "colab": {
          "base_uri": "https://localhost:8080/"
        },
        "id": "296Wcj3kdK-h",
        "outputId": "b4fd54a9-fd96-48df-adb2-3c3aefc04b4a"
      },
      "execution_count": null,
      "outputs": [
        {
          "output_type": "stream",
          "name": "stdout",
          "text": [
            "2.3333333333333335\n"
          ]
        }
      ]
    },
    {
      "cell_type": "code",
      "source": [
        "print(x//y) #perfroms rouning of the quotient"
      ],
      "metadata": {
        "colab": {
          "base_uri": "https://localhost:8080/"
        },
        "id": "MN9BvHdudTVE",
        "outputId": "6e43b5e9-be19-4cd0-cbcf-2fb0248cd609"
      },
      "execution_count": null,
      "outputs": [
        {
          "output_type": "stream",
          "name": "stdout",
          "text": [
            "2\n"
          ]
        }
      ]
    },
    {
      "cell_type": "code",
      "source": [
        "l1 = [5,7]\n",
        "l1[0]//l1[1]"
      ],
      "metadata": {
        "colab": {
          "base_uri": "https://localhost:8080/"
        },
        "id": "2fQ68t7hdeXO",
        "outputId": "532094c4-131b-4d76-b02e-f4ab81b0afd3"
      },
      "execution_count": null,
      "outputs": [
        {
          "output_type": "execute_result",
          "data": {
            "text/plain": [
              "0"
            ]
          },
          "metadata": {},
          "execution_count": 6
        }
      ]
    },
    {
      "cell_type": "code",
      "source": [
        "l1 = [i for i in range(0,10)]\n",
        "l1"
      ],
      "metadata": {
        "colab": {
          "base_uri": "https://localhost:8080/"
        },
        "id": "I8I5InPKdmXr",
        "outputId": "650063a6-bc33-4503-8a86-02107af892a7"
      },
      "execution_count": null,
      "outputs": [
        {
          "output_type": "execute_result",
          "data": {
            "text/plain": [
              "[0, 1, 2, 3, 4, 5, 6, 7, 8, 9]"
            ]
          },
          "metadata": {},
          "execution_count": 9
        }
      ]
    },
    {
      "cell_type": "code",
      "source": [
        "a=list(range(0,10))"
      ],
      "metadata": {
        "id": "zj035JS7ekFG"
      },
      "execution_count": null,
      "outputs": []
    },
    {
      "cell_type": "code",
      "source": [
        "a"
      ],
      "metadata": {
        "colab": {
          "base_uri": "https://localhost:8080/"
        },
        "id": "yvX7rR57ewLK",
        "outputId": "a10ed3df-25ff-4b31-ffc0-b202c8b23486"
      },
      "execution_count": null,
      "outputs": [
        {
          "output_type": "execute_result",
          "data": {
            "text/plain": [
              "[0, 1, 2, 3, 4, 5, 6, 7, 8, 9]"
            ]
          },
          "metadata": {},
          "execution_count": 11
        }
      ]
    },
    {
      "cell_type": "code",
      "source": [
        "total = 1\n",
        "for i in range(0,len(a)):\n",
        "  if i%2==0:\n",
        "    total = total*a[i]"
      ],
      "metadata": {
        "id": "7fE0TTYoe28c"
      },
      "execution_count": null,
      "outputs": []
    },
    {
      "cell_type": "code",
      "source": [
        "total"
      ],
      "metadata": {
        "colab": {
          "base_uri": "https://localhost:8080/"
        },
        "id": "lNPT_gLrgLmC",
        "outputId": "57027fbd-b52b-401d-adbc-071e089e4800"
      },
      "execution_count": null,
      "outputs": [
        {
          "output_type": "execute_result",
          "data": {
            "text/plain": [
              "0"
            ]
          },
          "metadata": {},
          "execution_count": 14
        }
      ]
    },
    {
      "cell_type": "code",
      "source": [
        "total = 1\n",
        "for i in range(0,len(a)):\n",
        "  if i%2!=0:\n",
        "    total = total*a[i]"
      ],
      "metadata": {
        "id": "q7OVcl2QgSrn"
      },
      "execution_count": null,
      "outputs": []
    },
    {
      "cell_type": "code",
      "source": [
        "total"
      ],
      "metadata": {
        "colab": {
          "base_uri": "https://localhost:8080/"
        },
        "id": "5YYsUOckhCud",
        "outputId": "3b4a33e3-03e3-427e-9e40-ef50387f13c2"
      },
      "execution_count": null,
      "outputs": [
        {
          "output_type": "execute_result",
          "data": {
            "text/plain": [
              "945"
            ]
          },
          "metadata": {},
          "execution_count": 16
        }
      ]
    },
    {
      "cell_type": "code",
      "source": [
        "l1 = [1,2,3]\n",
        "l1.append(4)\n",
        "print(l1)"
      ],
      "metadata": {
        "colab": {
          "base_uri": "https://localhost:8080/"
        },
        "id": "I4-988DBhGxQ",
        "outputId": "2e25ecdb-4a38-4ddc-e332-6253b4a534c3"
      },
      "execution_count": null,
      "outputs": [
        {
          "output_type": "stream",
          "name": "stdout",
          "text": [
            "[1, 2, 3, 4]\n"
          ]
        }
      ]
    },
    {
      "cell_type": "code",
      "source": [
        "l2 = [i for i in range(10,20)]"
      ],
      "metadata": {
        "id": "OaVHHTu8iEaS"
      },
      "execution_count": null,
      "outputs": []
    },
    {
      "cell_type": "code",
      "source": [
        "l2"
      ],
      "metadata": {
        "colab": {
          "base_uri": "https://localhost:8080/"
        },
        "id": "_cC-ULHwjkA1",
        "outputId": "1ae4e9d9-9b3e-4091-9538-acb5f20354f2"
      },
      "execution_count": null,
      "outputs": [
        {
          "output_type": "execute_result",
          "data": {
            "text/plain": [
              "[10, 11, 12, 13, 14, 15, 16, 17, 18, 19]"
            ]
          },
          "metadata": {},
          "execution_count": 20
        }
      ]
    },
    {
      "cell_type": "code",
      "source": [
        "for i in l2:\n",
        "  i += 3 # variable = variable + reminder # ASSIGNMENT OPERATOR\n",
        "  print(i)"
      ],
      "metadata": {
        "colab": {
          "base_uri": "https://localhost:8080/"
        },
        "id": "mgUfotorjxfF",
        "outputId": "77c3c296-5b09-45c9-806a-61e89a7a7c9b"
      },
      "execution_count": null,
      "outputs": [
        {
          "output_type": "stream",
          "name": "stdout",
          "text": [
            "13\n",
            "14\n",
            "15\n",
            "16\n",
            "17\n",
            "18\n",
            "19\n",
            "20\n",
            "21\n",
            "22\n"
          ]
        }
      ]
    },
    {
      "cell_type": "code",
      "source": [
        "for i in l2:\n",
        "  i-= 3\n",
        "  print(i)"
      ],
      "metadata": {
        "colab": {
          "base_uri": "https://localhost:8080/"
        },
        "id": "i8J3JQJTkdK8",
        "outputId": "d258b1f4-ed97-42ea-e484-433fb92a119d"
      },
      "execution_count": null,
      "outputs": [
        {
          "output_type": "stream",
          "name": "stdout",
          "text": [
            "7\n",
            "8\n",
            "9\n",
            "10\n",
            "11\n",
            "12\n",
            "13\n",
            "14\n",
            "15\n",
            "16\n"
          ]
        }
      ]
    },
    {
      "cell_type": "code",
      "source": [
        "for i in l2:\n",
        "  i*=3\n",
        "  print(i)"
      ],
      "metadata": {
        "colab": {
          "base_uri": "https://localhost:8080/"
        },
        "id": "4reoLnL7kzUH",
        "outputId": "d0592659-ffbc-4402-cde7-b43a15d0ddfc"
      },
      "execution_count": null,
      "outputs": [
        {
          "output_type": "stream",
          "name": "stdout",
          "text": [
            "30\n",
            "33\n",
            "36\n",
            "39\n",
            "42\n",
            "45\n",
            "48\n",
            "51\n",
            "54\n",
            "57\n"
          ]
        }
      ]
    },
    {
      "cell_type": "code",
      "source": [
        "for i in l2:\n",
        "  i//=3\n",
        "  print(i)"
      ],
      "metadata": {
        "colab": {
          "base_uri": "https://localhost:8080/"
        },
        "id": "kDGXktDolE2D",
        "outputId": "fe0d6af2-a8d4-4fa7-f978-e10e3e2067ad"
      },
      "execution_count": null,
      "outputs": [
        {
          "output_type": "stream",
          "name": "stdout",
          "text": [
            "3\n",
            "3\n",
            "4\n",
            "4\n",
            "4\n",
            "5\n",
            "5\n",
            "5\n",
            "6\n",
            "6\n"
          ]
        }
      ]
    },
    {
      "cell_type": "code",
      "source": [
        "# Comparision operators\n",
        "\n",
        "x=7\n",
        "y=10\n",
        "\n",
        "x==y"
      ],
      "metadata": {
        "colab": {
          "base_uri": "https://localhost:8080/"
        },
        "id": "7UKBSqLPmbNI",
        "outputId": "d5f6c14d-4fe4-483d-d5d6-77631bad5532"
      },
      "execution_count": null,
      "outputs": [
        {
          "output_type": "execute_result",
          "data": {
            "text/plain": [
              "False"
            ]
          },
          "metadata": {},
          "execution_count": 31
        }
      ]
    },
    {
      "cell_type": "code",
      "source": [
        "x!=y"
      ],
      "metadata": {
        "colab": {
          "base_uri": "https://localhost:8080/"
        },
        "id": "oLIuuOHunTzo",
        "outputId": "64aa8bc6-8889-4567-b94a-6534871b13e0"
      },
      "execution_count": null,
      "outputs": [
        {
          "output_type": "execute_result",
          "data": {
            "text/plain": [
              "True"
            ]
          },
          "metadata": {},
          "execution_count": 32
        }
      ]
    },
    {
      "cell_type": "code",
      "source": [
        "x>y"
      ],
      "metadata": {
        "colab": {
          "base_uri": "https://localhost:8080/"
        },
        "id": "JRxDBDMXnYgs",
        "outputId": "39b50d62-31ef-4fc2-f4ec-cab0462255e1"
      },
      "execution_count": null,
      "outputs": [
        {
          "output_type": "execute_result",
          "data": {
            "text/plain": [
              "False"
            ]
          },
          "metadata": {},
          "execution_count": 33
        }
      ]
    },
    {
      "cell_type": "code",
      "source": [
        "x<y"
      ],
      "metadata": {
        "colab": {
          "base_uri": "https://localhost:8080/"
        },
        "id": "qoppJaNKnb52",
        "outputId": "aabf7ca0-ccb1-4036-f615-35346634846a"
      },
      "execution_count": null,
      "outputs": [
        {
          "output_type": "execute_result",
          "data": {
            "text/plain": [
              "True"
            ]
          },
          "metadata": {},
          "execution_count": 34
        }
      ]
    },
    {
      "cell_type": "code",
      "source": [
        "x>=y"
      ],
      "metadata": {
        "colab": {
          "base_uri": "https://localhost:8080/"
        },
        "id": "PBWAsud7ndpB",
        "outputId": "2e657335-ba9a-4696-e16a-d43bd9825185"
      },
      "execution_count": null,
      "outputs": [
        {
          "output_type": "execute_result",
          "data": {
            "text/plain": [
              "False"
            ]
          },
          "metadata": {},
          "execution_count": 35
        }
      ]
    },
    {
      "cell_type": "code",
      "source": [
        "x<=y"
      ],
      "metadata": {
        "colab": {
          "base_uri": "https://localhost:8080/"
        },
        "id": "YMVxhk18no-T",
        "outputId": "7971b245-319e-45a5-d7cd-d22e1d10c138"
      },
      "execution_count": null,
      "outputs": [
        {
          "output_type": "execute_result",
          "data": {
            "text/plain": [
              "True"
            ]
          },
          "metadata": {},
          "execution_count": 36
        }
      ]
    },
    {
      "cell_type": "code",
      "source": [
        "# Logical operators\n",
        "\n",
        "x=7 # if 7 is b/w 5 and 10\n",
        "(x>5) and (x<10) # and operator both comaparisions have to be true"
      ],
      "metadata": {
        "colab": {
          "base_uri": "https://localhost:8080/"
        },
        "id": "WOb5n446ntzK",
        "outputId": "43875e4f-74ac-45ac-fe43-4ddb856e6481"
      },
      "execution_count": null,
      "outputs": [
        {
          "output_type": "execute_result",
          "data": {
            "text/plain": [
              "True"
            ]
          },
          "metadata": {},
          "execution_count": 40
        }
      ]
    },
    {
      "cell_type": "code",
      "source": [
        "(x<5) or (x<10)"
      ],
      "metadata": {
        "colab": {
          "base_uri": "https://localhost:8080/"
        },
        "id": "rngx3dNYoGVT",
        "outputId": "a8d6beac-da8f-40c0-9e56-4ae0413dfed8"
      },
      "execution_count": null,
      "outputs": [
        {
          "output_type": "execute_result",
          "data": {
            "text/plain": [
              "True"
            ]
          },
          "metadata": {},
          "execution_count": 41
        }
      ]
    },
    {
      "cell_type": "code",
      "source": [
        "x=5\n",
        "(x<10) and (x<0) and (x==5)"
      ],
      "metadata": {
        "colab": {
          "base_uri": "https://localhost:8080/"
        },
        "id": "xbszij_2oka6",
        "outputId": "fcae4488-a139-4d96-a968-a2093c4b44db"
      },
      "execution_count": null,
      "outputs": [
        {
          "output_type": "execute_result",
          "data": {
            "text/plain": [
              "False"
            ]
          },
          "metadata": {},
          "execution_count": 43
        }
      ]
    },
    {
      "cell_type": "code",
      "source": [
        "(x<10) or (x<0) and (x==5)"
      ],
      "metadata": {
        "colab": {
          "base_uri": "https://localhost:8080/"
        },
        "id": "Im1rg0TdpFR6",
        "outputId": "0cfd388f-f17e-4232-eb74-0fcdf5cad84a"
      },
      "execution_count": null,
      "outputs": [
        {
          "output_type": "execute_result",
          "data": {
            "text/plain": [
              "True"
            ]
          },
          "metadata": {},
          "execution_count": 46
        }
      ]
    },
    {
      "cell_type": "markdown",
      "source": [
        "#LISTS DATATYPE"
      ],
      "metadata": {
        "id": "5dEJPlZ4pUTJ"
      }
    },
    {
      "cell_type": "code",
      "source": [
        "L1 = ['apple','banana','mango']\n",
        " # lists are mutable\n",
        " #it can be either only numbers or only strings or both"
      ],
      "metadata": {
        "id": "XIbzOQAdpZdL"
      },
      "execution_count": null,
      "outputs": []
    },
    {
      "cell_type": "code",
      "source": [
        "l1 = ('apples','banana','mango')\n",
        "l2 = list(l1) #to convert tuple to list"
      ],
      "metadata": {
        "id": "sHQ2VixtqTIE"
      },
      "execution_count": null,
      "outputs": []
    },
    {
      "cell_type": "code",
      "source": [
        "l2"
      ],
      "metadata": {
        "colab": {
          "base_uri": "https://localhost:8080/"
        },
        "id": "FsxwB6rYqatR",
        "outputId": "dc14d8ec-52d8-4951-e3c0-fafd2bac3b25"
      },
      "execution_count": null,
      "outputs": [
        {
          "output_type": "execute_result",
          "data": {
            "text/plain": [
              "['apples', 'banana', 'mango']"
            ]
          },
          "metadata": {},
          "execution_count": 52
        }
      ]
    },
    {
      "cell_type": "code",
      "source": [
        "l2[2] #to access the elements"
      ],
      "metadata": {
        "colab": {
          "base_uri": "https://localhost:8080/",
          "height": 35
        },
        "id": "gY7lZ6a0qrZC",
        "outputId": "b33936b2-6a3f-4e28-8f8a-27ada66ed55e"
      },
      "execution_count": null,
      "outputs": [
        {
          "output_type": "execute_result",
          "data": {
            "text/plain": [
              "'mango'"
            ],
            "application/vnd.google.colaboratory.intrinsic+json": {
              "type": "string"
            }
          },
          "metadata": {},
          "execution_count": 57
        }
      ]
    },
    {
      "cell_type": "code",
      "source": [
        "['apples', 'banana', 'mangoes'] #positive indexing[0,1,2] and negative indexing[-3,-2,-1]"
      ],
      "metadata": {
        "id": "BQ86DAygq3xN"
      },
      "execution_count": null,
      "outputs": []
    },
    {
      "cell_type": "code",
      "source": [
        "list=['apples','banana','orange','mango','kiwi','melon','cherry']"
      ],
      "metadata": {
        "id": "xMl-dHh2rYAM"
      },
      "execution_count": null,
      "outputs": []
    },
    {
      "cell_type": "code",
      "source": [
        "list[1:5] # start:end it will always print from start till end-1"
      ],
      "metadata": {
        "id": "BIbJmpD_rjpc",
        "colab": {
          "base_uri": "https://localhost:8080/"
        },
        "outputId": "3b4ba611-9820-40b2-fb9a-13a4f468e10b"
      },
      "execution_count": null,
      "outputs": [
        {
          "output_type": "execute_result",
          "data": {
            "text/plain": [
              "['banana', 'orange', 'mango', 'kiwi']"
            ]
          },
          "metadata": {},
          "execution_count": 10
        }
      ]
    },
    {
      "cell_type": "code",
      "source": [
        "list[0:4] # (startposition,endpoisiton-1)"
      ],
      "metadata": {
        "colab": {
          "base_uri": "https://localhost:8080/"
        },
        "id": "sxzwCiDQS1kd",
        "outputId": "f2e0c534-9022-4cae-8511-8989d8da6675"
      },
      "execution_count": null,
      "outputs": [
        {
          "output_type": "execute_result",
          "data": {
            "text/plain": [
              "['apples', 'banana', 'orange', 'mango']"
            ]
          },
          "metadata": {},
          "execution_count": 11
        }
      ]
    },
    {
      "cell_type": "code",
      "source": [
        "list[:4]"
      ],
      "metadata": {
        "colab": {
          "base_uri": "https://localhost:8080/"
        },
        "id": "x7mefW4ES6NK",
        "outputId": "e55b318f-e322-4425-c8d0-8d0d87376784"
      },
      "execution_count": null,
      "outputs": [
        {
          "output_type": "execute_result",
          "data": {
            "text/plain": [
              "['apples', 'banana', 'orange', 'mango']"
            ]
          },
          "metadata": {},
          "execution_count": 12
        }
      ]
    },
    {
      "cell_type": "code",
      "source": [
        "list[-3:-1] # print from  -3 to -1-1 =-2"
      ],
      "metadata": {
        "colab": {
          "base_uri": "https://localhost:8080/"
        },
        "id": "eBLVuJZXS-cE",
        "outputId": "271df778-af79-475a-ae04-d50b5e74305f"
      },
      "execution_count": null,
      "outputs": [
        {
          "output_type": "execute_result",
          "data": {
            "text/plain": [
              "['kiwi', 'melon']"
            ]
          },
          "metadata": {},
          "execution_count": 13
        }
      ]
    },
    {
      "cell_type": "code",
      "source": [
        "list = [\"apple\", \"banana\", \"cherry\", \"orange\", \"kiwi\", \"melon\", \"mango\"]\n",
        "\n",
        "if \"cherry\" in list: #question : do it using for loop\n",
        "  print ('hi')"
      ],
      "metadata": {
        "colab": {
          "base_uri": "https://localhost:8080/"
        },
        "id": "muww9gnaTK77",
        "outputId": "2949ca05-8115-437a-cede-8848c69a0b00"
      },
      "execution_count": null,
      "outputs": [
        {
          "output_type": "stream",
          "name": "stdout",
          "text": [
            "hi\n"
          ]
        }
      ]
    },
    {
      "cell_type": "code",
      "source": [
        "list = [\"apple\", \"banana\", \"cherry\", \"orange\", \"kiwi\", \"melon\", \"mango\"]\n",
        "for i in list:\n",
        "  if i in'cherry':\n",
        "    print('hi')"
      ],
      "metadata": {
        "colab": {
          "base_uri": "https://localhost:8080/"
        },
        "id": "qzXtSAwvpMYw",
        "outputId": "d627e3dc-f6f4-42c3-f3aa-342274f69ad5"
      },
      "execution_count": null,
      "outputs": [
        {
          "output_type": "stream",
          "name": "stdout",
          "text": [
            "hi\n"
          ]
        }
      ]
    },
    {
      "cell_type": "code",
      "source": [
        "#List is a collection which is ordered and changeable. Allows duplicate members.\n",
        "#Tuple is a collection which is ordered and unchangeable. Allows duplicate members.\n",
        "#Set is a collection which is unordered, unchangeable*, and unindexed. No duplicate members.\n",
        "#Dictionary is a collection which is ordered** and changeable. No duplicate members."
      ],
      "metadata": {
        "id": "xIENCYp4v0Cd"
      },
      "execution_count": null,
      "outputs": []
    },
    {
      "cell_type": "code",
      "source": [
        "#changing items in the list\n",
        "list = [\"apple\", \"banana\", \"cherry\", \"orange\", \"kiwi\", \"melon\", \"mango\"]\n",
        "list[2]='watermelon'"
      ],
      "metadata": {
        "id": "QpH0-bsKkKb4"
      },
      "execution_count": null,
      "outputs": []
    },
    {
      "cell_type": "code",
      "source": [
        "list"
      ],
      "metadata": {
        "colab": {
          "base_uri": "https://localhost:8080/"
        },
        "id": "_xEuV45dlrwO",
        "outputId": "12dea7da-01b9-4ee1-ed88-f1cae8764e8a"
      },
      "execution_count": null,
      "outputs": [
        {
          "output_type": "execute_result",
          "data": {
            "text/plain": [
              "['apple', 'banana', 'watermelon', 'orange', 'kiwi', 'melon', 'mango']"
            ]
          },
          "metadata": {},
          "execution_count": 7
        }
      ]
    },
    {
      "cell_type": "code",
      "source": [
        "list[1:3]=['onion','tomatoes']"
      ],
      "metadata": {
        "id": "G0b0s8XNluNp"
      },
      "execution_count": null,
      "outputs": []
    },
    {
      "cell_type": "code",
      "source": [
        "list"
      ],
      "metadata": {
        "colab": {
          "base_uri": "https://localhost:8080/"
        },
        "id": "phwhq6fQmpnu",
        "outputId": "4a49f2fc-372a-473d-bf28-df54a25d15f0"
      },
      "execution_count": null,
      "outputs": [
        {
          "output_type": "execute_result",
          "data": {
            "text/plain": [
              "['apple', 'onion', 'tomatoes', 'orange', 'kiwi', 'melon', 'mango']"
            ]
          },
          "metadata": {},
          "execution_count": 13
        }
      ]
    },
    {
      "cell_type": "code",
      "source": [
        "list = [\"apple\", \"banana\", \"cherry\", \"orange\", \"kiwi\", \"melon\", \"mango\"]\n",
        "list.insert(2,'grapes')\n",
        "list"
      ],
      "metadata": {
        "colab": {
          "base_uri": "https://localhost:8080/"
        },
        "id": "GUwrgfaZm9yz",
        "outputId": "e25b1246-f744-4022-aea6-78f0bedbe089"
      },
      "execution_count": null,
      "outputs": [
        {
          "output_type": "execute_result",
          "data": {
            "text/plain": [
              "['apple', 'banana', 'grapes', 'cherry', 'orange', 'kiwi', 'melon', 'mango']"
            ]
          },
          "metadata": {},
          "execution_count": 15
        }
      ]
    },
    {
      "cell_type": "code",
      "source": [
        "li = [i for i in range(1,101)]\n",
        "even=[]\n",
        "odd=[]\n",
        "for i in li:\n",
        "  if i%2==0:\n",
        "    even.append(i)\n",
        "  else:\n",
        "    odd.append(i)\n",
        "print(even,odd)"
      ],
      "metadata": {
        "colab": {
          "base_uri": "https://localhost:8080/"
        },
        "id": "sK1mDa7ooG5r",
        "outputId": "b2ac6a22-3979-4d70-c8db-fdc7d713b561"
      },
      "execution_count": null,
      "outputs": [
        {
          "output_type": "stream",
          "name": "stdout",
          "text": [
            "[2, 4, 6, 8, 10, 12, 14, 16, 18, 20, 22, 24, 26, 28, 30, 32, 34, 36, 38, 40, 42, 44, 46, 48, 50, 52, 54, 56, 58, 60, 62, 64, 66, 68, 70, 72, 74, 76, 78, 80, 82, 84, 86, 88, 90, 92, 94, 96, 98, 100] [1, 3, 5, 7, 9, 11, 13, 15, 17, 19, 21, 23, 25, 27, 29, 31, 33, 35, 37, 39, 41, 43, 45, 47, 49, 51, 53, 55, 57, 59, 61, 63, 65, 67, 69, 71, 73, 75, 77, 79, 81, 83, 85, 87, 89, 91, 93, 95, 97, 99]\n"
          ]
        }
      ]
    },
    {
      "cell_type": "code",
      "source": [
        "multiply = []\n",
        "for j in l1:\n",
        "  if j % 3 == 0:\n",
        "    multiply.append(j)"
      ],
      "metadata": {
        "id": "heieN2NZDZT5"
      },
      "execution_count": null,
      "outputs": []
    },
    {
      "cell_type": "code",
      "source": [
        "l2 = [i for i in range(1,101)]\n",
        "l3=[]\n",
        "mul=1\n",
        "for i in l2:\n",
        "  if i%3==0:\n",
        "    l3.append(i)\n",
        "print(l3)"
      ],
      "metadata": {
        "colab": {
          "base_uri": "https://localhost:8080/"
        },
        "id": "IQwBfZtLo886",
        "outputId": "7ef0662f-9d47-4c81-8e11-53c738acae48"
      },
      "execution_count": null,
      "outputs": [
        {
          "output_type": "stream",
          "name": "stdout",
          "text": [
            "[3, 6, 9, 12, 15, 18, 21, 24, 27, 30, 33, 36, 39, 42, 45, 48, 51, 54, 57, 60, 63, 66, 69, 72, 75, 78, 81, 84, 87, 90, 93, 96, 99]\n"
          ]
        }
      ]
    },
    {
      "cell_type": "code",
      "source": [
        "list1 = [\"apple\", \"banana\", \"cherry\"]\n",
        "list2 = [\"orange\", \"kiwi\", \"melon\", \"mango\"]\n",
        "list1.extend(list2)\n",
        "print(list1)"
      ],
      "metadata": {
        "colab": {
          "base_uri": "https://localhost:8080/"
        },
        "id": "sn_Ilb0VqNYz",
        "outputId": "b9dcca8b-07e7-4582-96f8-2dc267e9c193"
      },
      "execution_count": null,
      "outputs": [
        {
          "output_type": "stream",
          "name": "stdout",
          "text": [
            "['apple', 'banana', 'cherry', 'orange', 'kiwi', 'melon', 'mango']\n"
          ]
        }
      ]
    },
    {
      "cell_type": "code",
      "source": [
        "list1 = [\"apple\", \"banana\", \"cherry\"]\n",
        "list2 = [\"orange\", \"kiwi\", \"melon\", \"mango\"]\n",
        "list1[0:1]\n",
        "list2[3:]\n",
        "list1.extend(list2)\n",
        "print(list1)"
      ],
      "metadata": {
        "colab": {
          "base_uri": "https://localhost:8080/"
        },
        "id": "lorhqMcrs4W_",
        "outputId": "4964006f-3fad-4b28-d685-1c16931ce6a9"
      },
      "execution_count": null,
      "outputs": [
        {
          "output_type": "stream",
          "name": "stdout",
          "text": [
            "['apple', 'banana', 'cherry', 'orange', 'kiwi', 'melon', 'mango']\n"
          ]
        }
      ]
    },
    {
      "cell_type": "code",
      "source": [
        "list1 = [\"apple\", \"banana\", \"cherry\"]\n",
        "list2 = [\"orange\", \"kiwi\", \"melon\", \"mango\"]\n",
        "list1[0:1].extend(list2)\n",
        "print(list1)\n"
      ],
      "metadata": {
        "colab": {
          "base_uri": "https://localhost:8080/"
        },
        "id": "SKwF53R1udGY",
        "outputId": "57cec68f-1646-4386-ee1d-8e1e3c793ad0"
      },
      "execution_count": null,
      "outputs": [
        {
          "output_type": "stream",
          "name": "stdout",
          "text": [
            "['apple', 'banana', 'cherry']\n"
          ]
        }
      ]
    },
    {
      "cell_type": "code",
      "source": [
        "list = [\"apple\", \"banana\", \"cherry\", \"orange\", \"kiwi\", \"melon\", \"mango\"]\n",
        "list.remove('cherry')\n",
        "list"
      ],
      "metadata": {
        "colab": {
          "base_uri": "https://localhost:8080/"
        },
        "id": "ERyWA8_juc6o",
        "outputId": "6cdd91fd-ca32-4159-f62c-5f96504c1080"
      },
      "execution_count": null,
      "outputs": [
        {
          "output_type": "execute_result",
          "data": {
            "text/plain": [
              "['apple', 'banana', 'orange', 'kiwi', 'melon', 'mango']"
            ]
          },
          "metadata": {},
          "execution_count": 50
        }
      ]
    },
    {
      "cell_type": "code",
      "source": [
        "list = [\"apple\", \"banana\", \"cherry\", \"orange\", \"kiwi\", \"melon\", \"mango\"]\n",
        "list.pop(2)"
      ],
      "metadata": {
        "colab": {
          "base_uri": "https://localhost:8080/",
          "height": 35
        },
        "id": "6AY2MbF4uvcx",
        "outputId": "a445d07c-66e5-4e1f-faba-47b026ba74cb"
      },
      "execution_count": null,
      "outputs": [
        {
          "output_type": "execute_result",
          "data": {
            "text/plain": [
              "'cherry'"
            ],
            "application/vnd.google.colaboratory.intrinsic+json": {
              "type": "string"
            }
          },
          "metadata": {},
          "execution_count": 51
        }
      ]
    },
    {
      "cell_type": "code",
      "source": [
        "list = [\"apple\", \"banana\", \"cherry\", \"orange\", \"kiwi\", \"melon\", \"mango\"]\n",
        "for i in list:\n",
        "  if i==i:\n",
        "    print(i)"
      ],
      "metadata": {
        "colab": {
          "base_uri": "https://localhost:8080/"
        },
        "id": "64XIDNndu_DK",
        "outputId": "8069c873-616e-417d-9e62-5dbd39422adf"
      },
      "execution_count": null,
      "outputs": [
        {
          "output_type": "stream",
          "name": "stdout",
          "text": [
            "apple\n",
            "banana\n",
            "cherry\n",
            "orange\n",
            "kiwi\n",
            "melon\n",
            "mango\n"
          ]
        }
      ]
    },
    {
      "cell_type": "code",
      "source": [
        "for i in range(0,len(list)):\n",
        "  print(list[i])"
      ],
      "metadata": {
        "colab": {
          "base_uri": "https://localhost:8080/"
        },
        "id": "5fzFDhEzvjKt",
        "outputId": "dcbb882f-b738-4138-8f73-ade79fe4dcfd"
      },
      "execution_count": null,
      "outputs": [
        {
          "output_type": "stream",
          "name": "stdout",
          "text": [
            "apple\n",
            "banana\n",
            "cherry\n",
            "orange\n",
            "kiwi\n",
            "melon\n",
            "mango\n"
          ]
        }
      ]
    },
    {
      "cell_type": "code",
      "source": [
        "i=0\n",
        "while(i<len(list)):\n",
        "  print(list[i])\n",
        "  i=i+1"
      ],
      "metadata": {
        "colab": {
          "base_uri": "https://localhost:8080/"
        },
        "id": "WV00KSwGwy6W",
        "outputId": "b682d679-87ce-42d7-ed21-bfc0e02f2728"
      },
      "execution_count": null,
      "outputs": [
        {
          "output_type": "stream",
          "name": "stdout",
          "text": [
            "apple\n",
            "banana\n",
            "cherry\n",
            "orange\n",
            "kiwi\n",
            "melon\n",
            "mango\n"
          ]
        }
      ]
    },
    {
      "cell_type": "code",
      "source": [
        "list = [\"apple\", \"banana\", \"cherry\", \"orange\", \"kiwi\", \"melon\", \"mango\"]\n",
        "newlist=[]\n",
        "\n",
        "for i in list:\n",
        "  if 'a' in i:\n",
        "    newlist.append(i)\n",
        "print(newlist)"
      ],
      "metadata": {
        "colab": {
          "base_uri": "https://localhost:8080/"
        },
        "id": "hSdY0_zixUqu",
        "outputId": "c1688eb7-8944-4d24-e049-9f91ec6c998a"
      },
      "execution_count": null,
      "outputs": [
        {
          "output_type": "stream",
          "name": "stdout",
          "text": [
            "['apple', 'banana', 'orange', 'mango']\n"
          ]
        }
      ]
    },
    {
      "cell_type": "code",
      "source": [
        "newlist=[x for x in list if 'a' in x]\n",
        "newlist"
      ],
      "metadata": {
        "colab": {
          "base_uri": "https://localhost:8080/"
        },
        "id": "0p8Mt41TzOUg",
        "outputId": "4710d416-8e8a-4ca4-ec8b-c203243f5203"
      },
      "execution_count": null,
      "outputs": [
        {
          "output_type": "execute_result",
          "data": {
            "text/plain": [
              "['apple', 'banana', 'orange', 'mango']"
            ]
          },
          "metadata": {},
          "execution_count": 68
        }
      ]
    },
    {
      "cell_type": "code",
      "source": [
        "# SORTING\n",
        "\n",
        "li=[100,50,65,82,23]\n",
        "li.sort()\n",
        "li"
      ],
      "metadata": {
        "colab": {
          "base_uri": "https://localhost:8080/"
        },
        "id": "-_47Y48SzmFp",
        "outputId": "96c9e931-528c-444c-b603-57b7ea1a27e5"
      },
      "execution_count": null,
      "outputs": [
        {
          "output_type": "execute_result",
          "data": {
            "text/plain": [
              "[23, 50, 65, 82, 100]"
            ]
          },
          "metadata": {},
          "execution_count": 70
        }
      ]
    },
    {
      "cell_type": "code",
      "source": [
        "li.sort(reverse=True)\n",
        "li"
      ],
      "metadata": {
        "colab": {
          "base_uri": "https://localhost:8080/"
        },
        "id": "M9t3lK9w0Pzo",
        "outputId": "d3c54347-0534-4e0f-9b13-8b212a08aa4f"
      },
      "execution_count": null,
      "outputs": [
        {
          "output_type": "execute_result",
          "data": {
            "text/plain": [
              "[100, 82, 65, 50, 23]"
            ]
          },
          "metadata": {},
          "execution_count": 72
        }
      ]
    },
    {
      "cell_type": "code",
      "source": [
        "def func(n):\n",
        "  i=n-50\n",
        "  if i<0:\n",
        "    i*=-1\n",
        "  return i\n",
        "\n",
        "func(10)"
      ],
      "metadata": {
        "colab": {
          "base_uri": "https://localhost:8080/"
        },
        "id": "oP0AJoLj0Pn-",
        "outputId": "5bf1faae-e875-4d68-80d6-87f8af40ae73"
      },
      "execution_count": null,
      "outputs": [
        {
          "output_type": "execute_result",
          "data": {
            "text/plain": [
              "40"
            ]
          },
          "metadata": {},
          "execution_count": 77
        }
      ]
    },
    {
      "cell_type": "code",
      "source": [
        "li=[100,50,65,82,23]\n",
        "li.sort(key=func)\n",
        "li"
      ],
      "metadata": {
        "colab": {
          "base_uri": "https://localhost:8080/"
        },
        "id": "M_Nc_Uut1u12",
        "outputId": "1201bc7d-29a9-4fc4-a0f6-ac1da0579af0"
      },
      "execution_count": null,
      "outputs": [
        {
          "output_type": "execute_result",
          "data": {
            "text/plain": [
              "[50, 65, 23, 82, 100]"
            ]
          },
          "metadata": {},
          "execution_count": 79
        }
      ]
    },
    {
      "cell_type": "code",
      "source": [
        "'''\n",
        "[50,0,15,32,27]\n",
        "[0,1,2,3,4]\n",
        "Sorted position [1,2,4,3,0]\n",
        "\n",
        "'''"
      ],
      "metadata": {
        "id": "V9qFcWXz2WUT"
      },
      "execution_count": null,
      "outputs": []
    },
    {
      "cell_type": "markdown",
      "source": [
        "# Copy lists"
      ],
      "metadata": {
        "id": "pZrIQQYbL8fA"
      }
    },
    {
      "cell_type": "code",
      "source": [
        "list1 = [12,45,67,89]\n",
        "list2=list1.copy()\n",
        "list2"
      ],
      "metadata": {
        "colab": {
          "base_uri": "https://localhost:8080/"
        },
        "id": "bFvweMc9MJBO",
        "outputId": "dbd0c65a-d48a-4b11-ff4a-8400b4181bdf"
      },
      "execution_count": null,
      "outputs": [
        {
          "output_type": "execute_result",
          "data": {
            "text/plain": [
              "[12, 45, 67, 89]"
            ]
          },
          "metadata": {},
          "execution_count": 1
        }
      ]
    },
    {
      "cell_type": "code",
      "source": [
        "list2[2]=45\n",
        "list2 #these are called objects"
      ],
      "metadata": {
        "colab": {
          "base_uri": "https://localhost:8080/"
        },
        "id": "1uLFj48HMiSV",
        "outputId": "b246f717-3c0a-4ce1-87fa-1ae1bf203afc"
      },
      "execution_count": null,
      "outputs": [
        {
          "output_type": "execute_result",
          "data": {
            "text/plain": [
              "[12, 45, 45, 89]"
            ]
          },
          "metadata": {},
          "execution_count": 3
        }
      ]
    },
    {
      "cell_type": "code",
      "source": [
        "list1=['a','b','c']\n",
        "list2=[1,2,3]\n",
        "list1 + list2"
      ],
      "metadata": {
        "colab": {
          "base_uri": "https://localhost:8080/"
        },
        "id": "FLH9XnuRM_V5",
        "outputId": "4d1649d1-4344-42ba-a875-160ca4a53297"
      },
      "execution_count": null,
      "outputs": [
        {
          "output_type": "execute_result",
          "data": {
            "text/plain": [
              "['a', 'b', 'c', 1, 2, 3]"
            ]
          },
          "metadata": {},
          "execution_count": 5
        }
      ]
    },
    {
      "cell_type": "code",
      "source": [
        "list1=[1,2,3]\n",
        "list2=['a','b','c']\n",
        "for i in list2:\n",
        "  list1.append(i)\n",
        "print(list1)"
      ],
      "metadata": {
        "id": "pgpzvDL5OFNb",
        "colab": {
          "base_uri": "https://localhost:8080/"
        },
        "outputId": "096bf51d-fd52-4d08-ef5f-eb584ec7c321"
      },
      "execution_count": null,
      "outputs": [
        {
          "output_type": "stream",
          "name": "stdout",
          "text": [
            "[1, 2, 3, 'a', 'b', 'c']\n"
          ]
        }
      ]
    },
    {
      "cell_type": "markdown",
      "source": [
        "#TUPLES"
      ],
      "metadata": {
        "id": "2FVeYWD1PA3A"
      }
    },
    {
      "cell_type": "code",
      "source": [
        "tup=('ab')"
      ],
      "metadata": {
        "id": "j2nkbSZiO3Dz"
      },
      "execution_count": null,
      "outputs": []
    },
    {
      "cell_type": "code",
      "source": [
        "len(tup)"
      ],
      "metadata": {
        "colab": {
          "base_uri": "https://localhost:8080/"
        },
        "id": "ZsYEfTuwPnsF",
        "outputId": "4ffbe0df-c53b-429b-c13a-d145fb909277"
      },
      "execution_count": null,
      "outputs": [
        {
          "output_type": "execute_result",
          "data": {
            "text/plain": [
              "2"
            ]
          },
          "metadata": {},
          "execution_count": 21
        }
      ]
    },
    {
      "cell_type": "code",
      "source": [
        "type(tup)"
      ],
      "metadata": {
        "colab": {
          "base_uri": "https://localhost:8080/"
        },
        "id": "7SMNiFzpPwB8",
        "outputId": "bea506b5-29a9-41a0-fe2c-003dc23b69f0"
      },
      "execution_count": null,
      "outputs": [
        {
          "output_type": "execute_result",
          "data": {
            "text/plain": [
              "str"
            ]
          },
          "metadata": {},
          "execution_count": 22
        }
      ]
    },
    {
      "cell_type": "code",
      "source": [
        "t=('apple',) #for single elements we use , in tuples\n",
        "print(t)"
      ],
      "metadata": {
        "colab": {
          "base_uri": "https://localhost:8080/"
        },
        "id": "IXmUErJ3P1NC",
        "outputId": "ca473d1d-1f5a-4352-9746-f08fb7d9042e"
      },
      "execution_count": null,
      "outputs": [
        {
          "output_type": "stream",
          "name": "stdout",
          "text": [
            "('apple',)\n"
          ]
        }
      ]
    },
    {
      "cell_type": "code",
      "source": [
        "print(type(t))"
      ],
      "metadata": {
        "colab": {
          "base_uri": "https://localhost:8080/"
        },
        "id": "eKG9jOb2P9M2",
        "outputId": "64ef1f6c-ffcf-403f-dacb-45c07689fd8a"
      },
      "execution_count": null,
      "outputs": [
        {
          "output_type": "stream",
          "name": "stdout",
          "text": [
            "<class 'tuple'>\n"
          ]
        }
      ]
    },
    {
      "cell_type": "code",
      "source": [
        "tup1=(\"apple\",\"banana\",\"orange\")\n",
        "for i in range(0,len(tup1)):\n",
        "  print(tup1[i])"
      ],
      "metadata": {
        "colab": {
          "base_uri": "https://localhost:8080/"
        },
        "id": "r39Z45uqSF9A",
        "outputId": "0a62255a-8271-4a45-e5d1-c0243c302af9"
      },
      "execution_count": null,
      "outputs": [
        {
          "output_type": "stream",
          "name": "stdout",
          "text": [
            "apple\n",
            "banana\n",
            "orange\n"
          ]
        }
      ]
    },
    {
      "cell_type": "code",
      "source": [
        "i=0\n",
        "while(i<len(tup1)):\n",
        "  print(tup1[i])\n",
        "  i=i+1"
      ],
      "metadata": {
        "colab": {
          "base_uri": "https://localhost:8080/"
        },
        "id": "VxnUxLVZSxwZ",
        "outputId": "fb00b182-e204-42ba-c08d-e98b75e1aa91"
      },
      "execution_count": null,
      "outputs": [
        {
          "output_type": "stream",
          "name": "stdout",
          "text": [
            "apple\n",
            "banana\n",
            "orange\n"
          ]
        }
      ]
    },
    {
      "cell_type": "markdown",
      "source": [
        "SETS"
      ],
      "metadata": {
        "id": "GC59QPSFUTjL"
      }
    },
    {
      "cell_type": "code",
      "source": [
        "# sets are unordered, unchangable,unindexed....    indexing, not ordered, we can not add,append\n",
        "\n",
        "myset={\"cococnut\",\"mango\",\"orange\"}"
      ],
      "metadata": {
        "id": "47uPtXABUKAs"
      },
      "execution_count": null,
      "outputs": []
    },
    {
      "cell_type": "code",
      "source": [
        "myset={\"cococnut\",\"mango\",\"orange\"} #remove duplicates, unique values\n",
        "mytup=(\"cococnut\",\"mango\",\"orange\")\n",
        "mylist=[\"cococnut\",\"mango\",\"orange\"]\n",
        "\n",
        "print(myset)\n",
        "print(mytup)\n",
        "print(mylist)"
      ],
      "metadata": {
        "colab": {
          "base_uri": "https://localhost:8080/"
        },
        "id": "sW3KytmqU5Y5",
        "outputId": "b2b2fbf5-75cb-4e00-f18a-89c324d1339b"
      },
      "execution_count": null,
      "outputs": [
        {
          "output_type": "stream",
          "name": "stdout",
          "text": [
            "{'mango', 'orange', 'cococnut'}\n",
            "('cococnut', 'mango', 'orange')\n",
            "['cococnut', 'mango', 'orange']\n"
          ]
        }
      ]
    },
    {
      "cell_type": "code",
      "source": [
        "len(myset)"
      ],
      "metadata": {
        "colab": {
          "base_uri": "https://localhost:8080/"
        },
        "id": "ul0WzhXRVdSd",
        "outputId": "0a930f11-862c-4571-96ee-79984bd15f72"
      },
      "execution_count": null,
      "outputs": [
        {
          "output_type": "execute_result",
          "data": {
            "text/plain": [
              "3"
            ]
          },
          "metadata": {},
          "execution_count": 41
        }
      ]
    },
    {
      "cell_type": "code",
      "source": [
        "type(myset)"
      ],
      "metadata": {
        "colab": {
          "base_uri": "https://localhost:8080/"
        },
        "id": "EFfkDZZLVwlI",
        "outputId": "8e8096e2-48d4-495c-af2f-a601f6a09451"
      },
      "execution_count": null,
      "outputs": [
        {
          "output_type": "execute_result",
          "data": {
            "text/plain": [
              "set"
            ]
          },
          "metadata": {},
          "execution_count": 42
        }
      ]
    },
    {
      "cell_type": "code",
      "source": [
        "thisset = {'apple','banana','orange'}\n",
        "set1={'grapes','melon'}\n",
        "\n",
        "thisset.update(set1)\n",
        "print(thisset)"
      ],
      "metadata": {
        "colab": {
          "base_uri": "https://localhost:8080/"
        },
        "id": "FIT3xvWyVz5D",
        "outputId": "634250c4-1282-43f8-ad66-e0cc46105af4"
      },
      "execution_count": null,
      "outputs": [
        {
          "output_type": "stream",
          "name": "stdout",
          "text": [
            "{'melon', 'banana', 'orange', 'apple', 'grapes'}\n"
          ]
        }
      ]
    },
    {
      "cell_type": "markdown",
      "source": [
        "# DICTIONARIES"
      ],
      "metadata": {
        "id": "vIxp98PWWXRf"
      }
    },
    {
      "cell_type": "code",
      "source": [
        "#key : value       structured\n",
        "d1= {\"ram\":10,\"rahul\":20,\"john\":30}\n",
        "d1"
      ],
      "metadata": {
        "colab": {
          "base_uri": "https://localhost:8080/"
        },
        "id": "39uQBF0BWbGV",
        "outputId": "c7083f61-4a9f-4152-8c1e-958d1175354c"
      },
      "execution_count": null,
      "outputs": [
        {
          "output_type": "execute_result",
          "data": {
            "text/plain": [
              "{'ram': 10, 'rahul': 20, 'john': 30}"
            ]
          },
          "metadata": {},
          "execution_count": 53
        }
      ]
    },
    {
      "cell_type": "code",
      "source": [
        "d1[\"john\"]"
      ],
      "metadata": {
        "colab": {
          "base_uri": "https://localhost:8080/"
        },
        "id": "PpM4s7-2Y2Kj",
        "outputId": "8e9bd955-55e9-4e75-8a94-fb6da567a3ea"
      },
      "execution_count": null,
      "outputs": [
        {
          "output_type": "execute_result",
          "data": {
            "text/plain": [
              "30"
            ]
          },
          "metadata": {},
          "execution_count": 54
        }
      ]
    },
    {
      "cell_type": "code",
      "source": [
        "d1= {\"ram\":10,\"rahul\":20,\"john\":30,\"john\":40} #remove duplicate values and print updated value\n",
        "d1"
      ],
      "metadata": {
        "colab": {
          "base_uri": "https://localhost:8080/"
        },
        "id": "kmLvWr_6Y96d",
        "outputId": "77c18901-6fdd-45e3-eef7-7dcde4fbe491"
      },
      "execution_count": null,
      "outputs": [
        {
          "output_type": "execute_result",
          "data": {
            "text/plain": [
              "{'ram': 10, 'rahul': 20, 'john': 40}"
            ]
          },
          "metadata": {},
          "execution_count": 58
        }
      ]
    },
    {
      "cell_type": "code",
      "source": [
        "len(d1)"
      ],
      "metadata": {
        "colab": {
          "base_uri": "https://localhost:8080/"
        },
        "id": "x1VteEusZi3b",
        "outputId": "a75264e1-7ad2-4e04-d264-adabcd99eadc"
      },
      "execution_count": null,
      "outputs": [
        {
          "output_type": "execute_result",
          "data": {
            "text/plain": [
              "3"
            ]
          },
          "metadata": {},
          "execution_count": 59
        }
      ]
    },
    {
      "cell_type": "code",
      "source": [
        "#keys in the dictionary\n",
        "d1.keys()"
      ],
      "metadata": {
        "colab": {
          "base_uri": "https://localhost:8080/"
        },
        "id": "509kjGXRaacL",
        "outputId": "10a04387-3375-44d7-c27e-4cdb67539033"
      },
      "execution_count": null,
      "outputs": [
        {
          "output_type": "execute_result",
          "data": {
            "text/plain": [
              "dict_keys(['ram', 'rahul', 'john'])"
            ]
          },
          "metadata": {},
          "execution_count": 60
        }
      ]
    },
    {
      "cell_type": "code",
      "source": [
        "d1.values()"
      ],
      "metadata": {
        "colab": {
          "base_uri": "https://localhost:8080/"
        },
        "id": "PWPe03DfahUU",
        "outputId": "70f73154-beff-40d8-e265-4ece68f94c63"
      },
      "execution_count": null,
      "outputs": [
        {
          "output_type": "execute_result",
          "data": {
            "text/plain": [
              "dict_values([10, 20, 40])"
            ]
          },
          "metadata": {},
          "execution_count": 61
        }
      ]
    },
    {
      "cell_type": "code",
      "source": [
        "d1= {\"ram\":10,\"rahul\":20,\"john\":30}\n",
        "d1[\"ram\"]"
      ],
      "metadata": {
        "id": "0tGv59zxaliA",
        "colab": {
          "base_uri": "https://localhost:8080/"
        },
        "outputId": "fd9c32e6-ae31-4f64-a830-0fbf0c2ea512"
      },
      "execution_count": null,
      "outputs": [
        {
          "output_type": "execute_result",
          "data": {
            "text/plain": [
              "10"
            ]
          },
          "metadata": {},
          "execution_count": 4
        }
      ]
    },
    {
      "cell_type": "code",
      "source": [
        "d1[\"Ram\"] = 10\n",
        "d1"
      ],
      "metadata": {
        "colab": {
          "base_uri": "https://localhost:8080/"
        },
        "id": "3Gew2QDNWrb-",
        "outputId": "8f59e9f2-db84-4c95-90c2-5d3d81ffde47"
      },
      "execution_count": null,
      "outputs": [
        {
          "output_type": "execute_result",
          "data": {
            "text/plain": [
              "{'ram': 10, 'rahul': 20, 'john': 30, 'Ram': 10}"
            ]
          },
          "metadata": {},
          "execution_count": 5
        }
      ]
    },
    {
      "cell_type": "code",
      "source": [
        "d1.items()  # returns a tuple of key value pairs"
      ],
      "metadata": {
        "colab": {
          "base_uri": "https://localhost:8080/"
        },
        "id": "DCCK5otQXlc0",
        "outputId": "7c9d5fe8-1763-4697-fe32-fb5161c2040c"
      },
      "execution_count": null,
      "outputs": [
        {
          "output_type": "execute_result",
          "data": {
            "text/plain": [
              "dict_items([('ram', 10), ('rahul', 20), ('john', 30), ('Ram', 10)])"
            ]
          },
          "metadata": {},
          "execution_count": 6
        }
      ]
    },
    {
      "cell_type": "code",
      "source": [
        "for k,v in d1.items():\n",
        "  print(k)\n",
        "  print(v)"
      ],
      "metadata": {
        "colab": {
          "base_uri": "https://localhost:8080/"
        },
        "id": "1irnswwZX0SZ",
        "outputId": "854d2b5e-6f1a-40de-8a3b-3e05ada55352"
      },
      "execution_count": null,
      "outputs": [
        {
          "output_type": "stream",
          "name": "stdout",
          "text": [
            "ram\n",
            "10\n",
            "rahul\n",
            "20\n",
            "john\n",
            "30\n",
            "Ram\n",
            "10\n"
          ]
        }
      ]
    },
    {
      "cell_type": "code",
      "source": [
        "thisdict={\"marks_5_unjects\":[24,68,94,56],\"average\":0,\"rank\":1}"
      ],
      "metadata": {
        "id": "RB0drZc_YIoC"
      },
      "execution_count": null,
      "outputs": []
    },
    {
      "cell_type": "code",
      "source": [
        "for k,v in thisdict.items():\n",
        "  if k == \"marks_5_unjects\":\n",
        "    sum=0\n",
        "    for i in v:\n",
        "      sum+=i\n",
        "    av = sum/len(v)\n",
        "  if k == \"average\":\n",
        "    thisdict[k] =  av\n",
        "print(thisdict)"
      ],
      "metadata": {
        "colab": {
          "base_uri": "https://localhost:8080/"
        },
        "id": "YJJC5gCqYshB",
        "outputId": "966394bc-bb52-4789-804c-73a9df380792"
      },
      "execution_count": null,
      "outputs": [
        {
          "output_type": "stream",
          "name": "stdout",
          "text": [
            "{'marks_5_unjects': [24, 68, 94, 56], 'average': 60.5, 'rank': 1}\n"
          ]
        }
      ]
    },
    {
      "cell_type": "code",
      "source": [
        "thisdict[\"height\"]=156\n",
        "thisdict"
      ],
      "metadata": {
        "colab": {
          "base_uri": "https://localhost:8080/"
        },
        "id": "O_-UOKkMat3i",
        "outputId": "10b670e0-7f07-4183-e0c5-e1e5433af43b"
      },
      "execution_count": null,
      "outputs": [
        {
          "output_type": "execute_result",
          "data": {
            "text/plain": [
              "{'marks_5_unjects': [24, 68, 94, 56],\n",
              " 'average': 60.5,\n",
              " 'rank': 1,\n",
              " 'height': 156}"
            ]
          },
          "metadata": {},
          "execution_count": 15
        }
      ]
    },
    {
      "cell_type": "code",
      "source": [
        "#to remove a key from dictionary\n",
        "thisdict.pop(\"height\")"
      ],
      "metadata": {
        "colab": {
          "base_uri": "https://localhost:8080/"
        },
        "id": "s_sY4-tvbkjN",
        "outputId": "05ac1241-fdac-42f4-86b3-dd3a299cb5bd"
      },
      "execution_count": null,
      "outputs": [
        {
          "output_type": "execute_result",
          "data": {
            "text/plain": [
              "156"
            ]
          },
          "metadata": {},
          "execution_count": 16
        }
      ]
    },
    {
      "cell_type": "code",
      "source": [
        "thisdict"
      ],
      "metadata": {
        "colab": {
          "base_uri": "https://localhost:8080/"
        },
        "id": "ySO7Kx1sbxZb",
        "outputId": "67fff371-56b0-4b0c-9d8d-85f0f209ab5a"
      },
      "execution_count": null,
      "outputs": [
        {
          "output_type": "execute_result",
          "data": {
            "text/plain": [
              "{'marks_5_unjects': [24, 68, 94, 56], 'average': 60.5, 'rank': 1}"
            ]
          },
          "metadata": {},
          "execution_count": 17
        }
      ]
    },
    {
      "cell_type": "code",
      "source": [
        "#variants of for loops in dictionary\n",
        "for x in thisdict:\n",
        "  print(x)"
      ],
      "metadata": {
        "colab": {
          "base_uri": "https://localhost:8080/"
        },
        "id": "eYbood09bzqV",
        "outputId": "0bd63e18-a300-4085-88b1-02fc25157579"
      },
      "execution_count": null,
      "outputs": [
        {
          "output_type": "stream",
          "name": "stdout",
          "text": [
            "marks_5_unjects\n",
            "average\n",
            "rank\n"
          ]
        }
      ]
    },
    {
      "cell_type": "code",
      "source": [
        "for x in thisdict.keys():\n",
        "  print(x)"
      ],
      "metadata": {
        "colab": {
          "base_uri": "https://localhost:8080/"
        },
        "id": "8V3UyubRcult",
        "outputId": "4b432094-6b39-4b57-93be-b28eeeb29e22"
      },
      "execution_count": null,
      "outputs": [
        {
          "output_type": "stream",
          "name": "stdout",
          "text": [
            "marks_5_unjects\n",
            "average\n",
            "rank\n"
          ]
        }
      ]
    },
    {
      "cell_type": "code",
      "source": [
        "for x in thisdict.values():\n",
        "  print(x)"
      ],
      "metadata": {
        "colab": {
          "base_uri": "https://localhost:8080/"
        },
        "id": "sBfi61Zrc3zk",
        "outputId": "6d83bae9-9dd9-4562-de8c-372954d75eef"
      },
      "execution_count": null,
      "outputs": [
        {
          "output_type": "stream",
          "name": "stdout",
          "text": [
            "[24, 68, 94, 56]\n",
            "60.5\n",
            "1\n"
          ]
        }
      ]
    },
    {
      "cell_type": "code",
      "source": [
        "for x in thisdict.items():\n",
        "  print(x)"
      ],
      "metadata": {
        "colab": {
          "base_uri": "https://localhost:8080/"
        },
        "id": "QdYwSXxec8Qu",
        "outputId": "0fd8a1a1-ff09-45d9-ee09-484a44ca3716"
      },
      "execution_count": null,
      "outputs": [
        {
          "output_type": "stream",
          "name": "stdout",
          "text": [
            "('marks_5_unjects', [24, 68, 94, 56])\n",
            "('average', 60.5)\n",
            "('rank', 1)\n"
          ]
        }
      ]
    },
    {
      "cell_type": "code",
      "source": [
        "friends = {'vijay':{'age':24,'height':157},'ram':{'age':27,'height':158},'john':{'age':22,'height':154}}"
      ],
      "metadata": {
        "id": "w1R_wBF6dEu5"
      },
      "execution_count": null,
      "outputs": []
    },
    {
      "cell_type": "code",
      "source": [
        "friends"
      ],
      "metadata": {
        "colab": {
          "base_uri": "https://localhost:8080/"
        },
        "id": "-ahs2gjOduhC",
        "outputId": "1db5616d-eb6d-450d-898f-d6897365cfea"
      },
      "execution_count": null,
      "outputs": [
        {
          "output_type": "execute_result",
          "data": {
            "text/plain": [
              "{'vijay': {'age': 24, 'height': 157},\n",
              " 'ram': {'age': 27, 'height': 158},\n",
              " 'john': {'age': 22, 'height': 154}}"
            ]
          },
          "metadata": {},
          "execution_count": 23
        }
      ]
    },
    {
      "cell_type": "code",
      "source": [
        "friends.keys()"
      ],
      "metadata": {
        "colab": {
          "base_uri": "https://localhost:8080/"
        },
        "id": "U5m7MKKbd29I",
        "outputId": "6d5bcbff-bbf2-4566-8875-9db49d41418d"
      },
      "execution_count": null,
      "outputs": [
        {
          "output_type": "execute_result",
          "data": {
            "text/plain": [
              "dict_keys(['vijay', 'ram', 'john'])"
            ]
          },
          "metadata": {},
          "execution_count": 28
        }
      ]
    },
    {
      "cell_type": "code",
      "source": [
        "friends.values()"
      ],
      "metadata": {
        "colab": {
          "base_uri": "https://localhost:8080/"
        },
        "id": "IWd8YFdreXVX",
        "outputId": "db48f141-4a2f-4048-a6ee-be0b37390f1e"
      },
      "execution_count": null,
      "outputs": [
        {
          "output_type": "execute_result",
          "data": {
            "text/plain": [
              "dict_values([{'age': 24, 'height': 157}, {'age': 27, 'height': 158}, {'age': 22, 'height': 154}])"
            ]
          },
          "metadata": {},
          "execution_count": 30
        }
      ]
    },
    {
      "cell_type": "code",
      "source": [
        "friends['vijay']"
      ],
      "metadata": {
        "colab": {
          "base_uri": "https://localhost:8080/"
        },
        "id": "LjMjIB2hedTf",
        "outputId": "b87f51c1-b430-4f5f-f7b3-67127d831f9a"
      },
      "execution_count": null,
      "outputs": [
        {
          "output_type": "execute_result",
          "data": {
            "text/plain": [
              "{'age': 24, 'height': 157}"
            ]
          },
          "metadata": {},
          "execution_count": 31
        }
      ]
    },
    {
      "cell_type": "code",
      "source": [
        "friends['vijay']['age']"
      ],
      "metadata": {
        "colab": {
          "base_uri": "https://localhost:8080/"
        },
        "id": "v2b3R37Zeg2v",
        "outputId": "1bb4cad2-6a20-4f30-f910-ac565d60c40e"
      },
      "execution_count": null,
      "outputs": [
        {
          "output_type": "execute_result",
          "data": {
            "text/plain": [
              "24"
            ]
          },
          "metadata": {},
          "execution_count": 32
        }
      ]
    },
    {
      "cell_type": "markdown",
      "source": [
        "#If_else_condtion"
      ],
      "metadata": {
        "id": "yb6b1EGYes8M"
      }
    },
    {
      "cell_type": "code",
      "source": [
        "a=33\n",
        "b=22\n",
        "if b>a:\n",
        "  print('hi')\n",
        "elif b==a:\n",
        "  print('hello')\n",
        "else:\n",
        "  print('world')"
      ],
      "metadata": {
        "colab": {
          "base_uri": "https://localhost:8080/"
        },
        "id": "ZUPQeE_Jghed",
        "outputId": "25a3052a-07b7-4a66-9f10-242dbff003f7"
      },
      "execution_count": null,
      "outputs": [
        {
          "output_type": "stream",
          "name": "stdout",
          "text": [
            "world\n"
          ]
        }
      ]
    },
    {
      "cell_type": "code",
      "source": [
        "a=200\n",
        "b=33\n",
        "if a>b:\n",
        "  print('a is greater than b')\n",
        "elif a<b:\n",
        "  print('b is less than a')\n",
        "else:\n",
        "  print('a is equal to b')"
      ],
      "metadata": {
        "colab": {
          "base_uri": "https://localhost:8080/"
        },
        "id": "VAKj5UEAgpbk",
        "outputId": "83a080f6-ee27-46a3-e9ba-448f3da483aa"
      },
      "execution_count": null,
      "outputs": [
        {
          "output_type": "stream",
          "name": "stdout",
          "text": [
            "a is greater than b\n"
          ]
        }
      ]
    },
    {
      "cell_type": "code",
      "source": [
        "# short hand notation\n",
        "a=2\n",
        "b=330\n",
        "print(a) if a>b else print(b)"
      ],
      "metadata": {
        "colab": {
          "base_uri": "https://localhost:8080/"
        },
        "id": "-Q92B4juhRLc",
        "outputId": "28db4d18-f704-40bc-8593-9831d796eafd"
      },
      "execution_count": null,
      "outputs": [
        {
          "output_type": "stream",
          "name": "stdout",
          "text": [
            "330\n"
          ]
        }
      ]
    },
    {
      "cell_type": "code",
      "source": [
        "a=530\n",
        "b=55\n",
        "c=500\n",
        "if a>b and a>c:\n",
        "  print('hi')"
      ],
      "metadata": {
        "colab": {
          "base_uri": "https://localhost:8080/"
        },
        "id": "ywWkEBiGiNFm",
        "outputId": "77344e03-f623-4e6c-ecef-a4bcf64045d8"
      },
      "execution_count": null,
      "outputs": [
        {
          "output_type": "stream",
          "name": "stdout",
          "text": [
            "hi\n"
          ]
        }
      ]
    },
    {
      "cell_type": "code",
      "source": [
        "a=33\n",
        "b=200\n",
        "if not a>b:\n",
        "  print('hi')"
      ],
      "metadata": {
        "colab": {
          "base_uri": "https://localhost:8080/"
        },
        "id": "2IApcWAOi5Mr",
        "outputId": "d45aa552-a6e5-4047-8a84-b7cb97edf371"
      },
      "execution_count": null,
      "outputs": [
        {
          "output_type": "stream",
          "name": "stdout",
          "text": [
            "hi\n"
          ]
        }
      ]
    },
    {
      "cell_type": "code",
      "source": [
        "# Nested if\n",
        "\n",
        "x=15\n",
        "if x>10:\n",
        "  if x>20:\n",
        "    if x>30:\n",
        "      print('hi')\n",
        "  else:\n",
        "    print('hello')"
      ],
      "metadata": {
        "colab": {
          "base_uri": "https://localhost:8080/"
        },
        "id": "-VyQkbzqjb4E",
        "outputId": "2630557d-4e23-46cb-ea80-aa80cd67be7b"
      },
      "execution_count": null,
      "outputs": [
        {
          "output_type": "stream",
          "name": "stdout",
          "text": [
            "hello\n"
          ]
        }
      ]
    },
    {
      "cell_type": "code",
      "source": [
        "x=15\n",
        "if x>10:\n",
        "  if x>20:\n",
        "    pass\n",
        "  else:\n",
        "    print('hello')\n",
        "    if x>30:\n",
        "      print('hi')"
      ],
      "metadata": {
        "colab": {
          "base_uri": "https://localhost:8080/"
        },
        "id": "qBmtHY8nlIAO",
        "outputId": "70bc7666-fd27-46cb-c7a4-96d1431e89ba"
      },
      "execution_count": null,
      "outputs": [
        {
          "output_type": "stream",
          "name": "stdout",
          "text": [
            "hello\n"
          ]
        }
      ]
    },
    {
      "cell_type": "code",
      "source": [
        "dict1={\"ram\":14,\"john\":67,\"ravi\":42,\"vijay\":34}\n",
        "for k,v in dict1.items():\n",
        "  if v>40 and v<80:\n",
        "    print(k)"
      ],
      "metadata": {
        "colab": {
          "base_uri": "https://localhost:8080/"
        },
        "id": "ToM4fMpNlhK7",
        "outputId": "002ed137-6ded-49ed-f116-59f068d0ffc3"
      },
      "execution_count": null,
      "outputs": [
        {
          "output_type": "stream",
          "name": "stdout",
          "text": [
            "john\n",
            "ravi\n"
          ]
        }
      ]
    },
    {
      "cell_type": "code",
      "source": [
        "l1=[i for i in range(1,500)]\n",
        "l2=[i for i in range(501,1000)]\n",
        "\n",
        "dict1={\"range1\":l1,\"range2\":l2}"
      ],
      "metadata": {
        "id": "wlHJZgbMm4Fe"
      },
      "execution_count": null,
      "outputs": []
    },
    {
      "cell_type": "markdown",
      "source": [
        "#while loop"
      ],
      "metadata": {
        "id": "rL-QivA4pVik"
      }
    },
    {
      "cell_type": "code",
      "source": [
        "i=0\n",
        "while i < 6:\n",
        "  print(i)\n",
        "  i=i+1"
      ],
      "metadata": {
        "colab": {
          "base_uri": "https://localhost:8080/"
        },
        "id": "of-acP77pEoU",
        "outputId": "6770324a-efbd-48e6-ef45-90c15fcd6aab"
      },
      "execution_count": null,
      "outputs": [
        {
          "output_type": "stream",
          "name": "stdout",
          "text": [
            "0\n",
            "1\n",
            "2\n",
            "3\n",
            "4\n",
            "5\n"
          ]
        }
      ]
    },
    {
      "cell_type": "code",
      "source": [
        "i=0\n",
        "while i < 6:\n",
        "  print(i)\n",
        "  if i==3:\n",
        "    break\n",
        "  i=i+1"
      ],
      "metadata": {
        "colab": {
          "base_uri": "https://localhost:8080/"
        },
        "id": "4MeGBfZMqKGq",
        "outputId": "7abf45f8-c585-447f-81bb-9ecc27fef469"
      },
      "execution_count": null,
      "outputs": [
        {
          "output_type": "stream",
          "name": "stdout",
          "text": [
            "0\n",
            "1\n",
            "2\n",
            "3\n"
          ]
        }
      ]
    },
    {
      "cell_type": "code",
      "source": [
        "i=0\n",
        "while i < 6:\n",
        "  print(i)\n",
        "  i+=1\n",
        "  if i==3:\n",
        "    continue #exit"
      ],
      "metadata": {
        "colab": {
          "base_uri": "https://localhost:8080/"
        },
        "id": "PEJg3dAAq7cg",
        "outputId": "74e4fcba-d652-4e8f-e6ff-ed34452b5e6e"
      },
      "execution_count": null,
      "outputs": [
        {
          "output_type": "stream",
          "name": "stdout",
          "text": [
            "0\n",
            "1\n",
            "2\n",
            "3\n",
            "4\n",
            "5\n"
          ]
        }
      ]
    },
    {
      "cell_type": "code",
      "source": [
        "list=['apple','banana','cherry']\n",
        "for i in list:\n",
        "  if 'banana'in i:\n",
        "    break\n",
        "  else:\n",
        "    print(i)"
      ],
      "metadata": {
        "colab": {
          "base_uri": "https://localhost:8080/"
        },
        "id": "X16YLxkvs9BR",
        "outputId": "78d7a521-0e81-4114-b4dd-9aab97197fa8"
      },
      "execution_count": null,
      "outputs": [
        {
          "output_type": "stream",
          "name": "stdout",
          "text": [
            "apple\n"
          ]
        }
      ]
    },
    {
      "cell_type": "code",
      "source": [
        "l1=[i for i in range(0,100,3)]\n",
        "print(l1)"
      ],
      "metadata": {
        "colab": {
          "base_uri": "https://localhost:8080/"
        },
        "id": "kP8Fh74Ftwwh",
        "outputId": "a2076e28-7dcf-466c-e7ce-92c31d3b09bc"
      },
      "execution_count": null,
      "outputs": [
        {
          "output_type": "stream",
          "name": "stdout",
          "text": [
            "[0, 3, 6, 9, 12, 15, 18, 21, 24, 27, 30, 33, 36, 39, 42, 45, 48, 51, 54, 57, 60, 63, 66, 69, 72, 75, 78, 81, 84, 87, 90, 93, 96, 99]\n"
          ]
        }
      ]
    }
  ]
}